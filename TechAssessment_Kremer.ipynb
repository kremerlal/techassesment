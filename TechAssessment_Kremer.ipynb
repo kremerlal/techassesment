{
  "nbformat": 4,
  "nbformat_minor": 0,
  "metadata": {
    "colab": {
      "provenance": [],
      "authorship_tag": "ABX9TyOiE7eKGAE6A8tILpWAjrDv",
      "include_colab_link": true
    },
    "kernelspec": {
      "name": "python3",
      "display_name": "Python 3"
    },
    "language_info": {
      "name": "python"
    }
  },
  "cells": [
    {
      "cell_type": "markdown",
      "metadata": {
        "id": "view-in-github",
        "colab_type": "text"
      },
      "source": [
        "<a href=\"https://colab.research.google.com/github/kremerlal/techassesment/blob/main/TechAssessment_Kremer.ipynb\" target=\"_parent\"><img src=\"https://colab.research.google.com/assets/colab-badge.svg\" alt=\"Open In Colab\"/></a>"
      ]
    },
    {
      "cell_type": "code",
      "execution_count": null,
      "metadata": {
        "id": "Dy4_JAc1hSqc"
      },
      "outputs": [],
      "source": [
        "import pandas as pd\n",
        "import numpy as np\n",
        "import matplotlib.pyplot as plt\n",
        "import re\n",
        "import string"
      ]
    },
    {
      "cell_type": "code",
      "source": [
        "df = pd.read_excel('/content/ground_vehicles.xlsx') #put the data set into a dataframe"
      ],
      "metadata": {
        "id": "Jwn7u1A-hjzS"
      },
      "execution_count": null,
      "outputs": []
    },
    {
      "cell_type": "code",
      "source": [
        "df.head() #make sure the data was read in properly"
      ],
      "metadata": {
        "colab": {
          "base_uri": "https://localhost:8080/",
          "height": 539
        },
        "id": "gbuvP75MkPuK",
        "outputId": "ec4a78e2-5725-4adf-8099-6b4fd51b3825"
      },
      "execution_count": null,
      "outputs": [
        {
          "output_type": "execute_result",
          "data": {
            "text/plain": [
              "          ID Contract Number (IDVPIID) Award Number (PIID)  \\\n",
              "0  261901205                       NaN       SPE4A616M0117   \n",
              "1  261915422                       NaN        VA26014P1360   \n",
              "2  261916094                       NaN        VA25912C0281   \n",
              "3  261919276                       NaN        VA25115C0125   \n",
              "4  261919325                       NaN        VA25114C0139   \n",
              "\n",
              "  Modification Number  Fiscal Year  \\\n",
              "0                 NaN         2016   \n",
              "1              P00003         2016   \n",
              "2              P00004         2016   \n",
              "3              P00001         2016   \n",
              "4              P00001         2016   \n",
              "\n",
              "                                               Title  Awarded Amount  \\\n",
              "0                                BEARING,PLAIN,SPHER             NaN   \n",
              "1  PREVENTATIVE MAINTENANCE SERVICES ON NEPTUNE U...        25990.00   \n",
              "2  IGF::CT::IGF STRYKER SERVICE PLAN FOR VA FORT ...        13053.38   \n",
              "3  IGF::OT::IGF MAINTENANCE OF PATIENT BEDS OPTIO...        16356.00   \n",
              "4  IGF::OT::IGF MAINTENANCE OF STRYKER NAV II SYSTEM        68023.62   \n",
              "\n",
              "                                  Contracting Office  \\\n",
              "0  DLA Aviation (formerly Defense Supply Center R...   \n",
              "1                         VISN 20: Northwest Network   \n",
              "2                    VISN 19: Rocky Mountain Network   \n",
              "3                     VA Ann Arbor Healthcare System   \n",
              "4                     VA Ann Arbor Healthcare System   \n",
              "\n",
              "                       Contracting Agency Place of Performance State  \\\n",
              "0          US Department of Defense (DoD)                        NaN   \n",
              "1  US Department of Veterans Affairs (VA)                         OR   \n",
              "2  US Department of Veterans Affairs (VA)                         MI   \n",
              "3  US Department of Veterans Affairs (VA)                         MI   \n",
              "4  US Department of Veterans Affairs (VA)                         MI   \n",
              "\n",
              "  Place of Performance City                          Vendor  Name  \\\n",
              "0                       NaN  Longhorn Regional Service Center LLC   \n",
              "1                  Portland                   Stryker Corporation   \n",
              "2                   Portage                   Stryker Corporation   \n",
              "3                 Ann Arbor             Imaging Diagnostics, Inc.   \n",
              "4                 Ann Arbor                   Stryker Corporation   \n",
              "\n",
              "                       Vendor  Top Name  \\\n",
              "0  Longhorn Regional Service Center LLC   \n",
              "1                   Stryker Corporation   \n",
              "2                   Stryker Corporation   \n",
              "3             Imaging Diagnostics, Inc.   \n",
              "4                   Stryker Corporation   \n",
              "\n",
              "                                            PSC Name  \n",
              "0                                      (31) BEARINGS  \n",
              "1  (J065) MAINT/REPAIR/REBUILD OF EQUIPMENT- MEDI...  \n",
              "2  (J065) MAINT/REPAIR/REBUILD OF EQUIPMENT- MEDI...  \n",
              "3  (J065) MAINT/REPAIR/REBUILD OF EQUIPMENT- MEDI...  \n",
              "4  (J065) MAINT/REPAIR/REBUILD OF EQUIPMENT- MEDI...  "
            ],
            "text/html": [
              "\n",
              "  <div id=\"df-00ae4c30-b508-4f84-8adf-0c47bc995246\" class=\"colab-df-container\">\n",
              "    <div>\n",
              "<style scoped>\n",
              "    .dataframe tbody tr th:only-of-type {\n",
              "        vertical-align: middle;\n",
              "    }\n",
              "\n",
              "    .dataframe tbody tr th {\n",
              "        vertical-align: top;\n",
              "    }\n",
              "\n",
              "    .dataframe thead th {\n",
              "        text-align: right;\n",
              "    }\n",
              "</style>\n",
              "<table border=\"1\" class=\"dataframe\">\n",
              "  <thead>\n",
              "    <tr style=\"text-align: right;\">\n",
              "      <th></th>\n",
              "      <th>ID</th>\n",
              "      <th>Contract Number (IDVPIID)</th>\n",
              "      <th>Award Number (PIID)</th>\n",
              "      <th>Modification Number</th>\n",
              "      <th>Fiscal Year</th>\n",
              "      <th>Title</th>\n",
              "      <th>Awarded Amount</th>\n",
              "      <th>Contracting Office</th>\n",
              "      <th>Contracting Agency</th>\n",
              "      <th>Place of Performance State</th>\n",
              "      <th>Place of Performance City</th>\n",
              "      <th>Vendor  Name</th>\n",
              "      <th>Vendor  Top Name</th>\n",
              "      <th>PSC Name</th>\n",
              "    </tr>\n",
              "  </thead>\n",
              "  <tbody>\n",
              "    <tr>\n",
              "      <th>0</th>\n",
              "      <td>261901205</td>\n",
              "      <td>NaN</td>\n",
              "      <td>SPE4A616M0117</td>\n",
              "      <td>NaN</td>\n",
              "      <td>2016</td>\n",
              "      <td>BEARING,PLAIN,SPHER</td>\n",
              "      <td>NaN</td>\n",
              "      <td>DLA Aviation (formerly Defense Supply Center R...</td>\n",
              "      <td>US Department of Defense (DoD)</td>\n",
              "      <td>NaN</td>\n",
              "      <td>NaN</td>\n",
              "      <td>Longhorn Regional Service Center LLC</td>\n",
              "      <td>Longhorn Regional Service Center LLC</td>\n",
              "      <td>(31) BEARINGS</td>\n",
              "    </tr>\n",
              "    <tr>\n",
              "      <th>1</th>\n",
              "      <td>261915422</td>\n",
              "      <td>NaN</td>\n",
              "      <td>VA26014P1360</td>\n",
              "      <td>P00003</td>\n",
              "      <td>2016</td>\n",
              "      <td>PREVENTATIVE MAINTENANCE SERVICES ON NEPTUNE U...</td>\n",
              "      <td>25990.00</td>\n",
              "      <td>VISN 20: Northwest Network</td>\n",
              "      <td>US Department of Veterans Affairs (VA)</td>\n",
              "      <td>OR</td>\n",
              "      <td>Portland</td>\n",
              "      <td>Stryker Corporation</td>\n",
              "      <td>Stryker Corporation</td>\n",
              "      <td>(J065) MAINT/REPAIR/REBUILD OF EQUIPMENT- MEDI...</td>\n",
              "    </tr>\n",
              "    <tr>\n",
              "      <th>2</th>\n",
              "      <td>261916094</td>\n",
              "      <td>NaN</td>\n",
              "      <td>VA25912C0281</td>\n",
              "      <td>P00004</td>\n",
              "      <td>2016</td>\n",
              "      <td>IGF::CT::IGF STRYKER SERVICE PLAN FOR VA FORT ...</td>\n",
              "      <td>13053.38</td>\n",
              "      <td>VISN 19: Rocky Mountain Network</td>\n",
              "      <td>US Department of Veterans Affairs (VA)</td>\n",
              "      <td>MI</td>\n",
              "      <td>Portage</td>\n",
              "      <td>Stryker Corporation</td>\n",
              "      <td>Stryker Corporation</td>\n",
              "      <td>(J065) MAINT/REPAIR/REBUILD OF EQUIPMENT- MEDI...</td>\n",
              "    </tr>\n",
              "    <tr>\n",
              "      <th>3</th>\n",
              "      <td>261919276</td>\n",
              "      <td>NaN</td>\n",
              "      <td>VA25115C0125</td>\n",
              "      <td>P00001</td>\n",
              "      <td>2016</td>\n",
              "      <td>IGF::OT::IGF MAINTENANCE OF PATIENT BEDS OPTIO...</td>\n",
              "      <td>16356.00</td>\n",
              "      <td>VA Ann Arbor Healthcare System</td>\n",
              "      <td>US Department of Veterans Affairs (VA)</td>\n",
              "      <td>MI</td>\n",
              "      <td>Ann Arbor</td>\n",
              "      <td>Imaging Diagnostics, Inc.</td>\n",
              "      <td>Imaging Diagnostics, Inc.</td>\n",
              "      <td>(J065) MAINT/REPAIR/REBUILD OF EQUIPMENT- MEDI...</td>\n",
              "    </tr>\n",
              "    <tr>\n",
              "      <th>4</th>\n",
              "      <td>261919325</td>\n",
              "      <td>NaN</td>\n",
              "      <td>VA25114C0139</td>\n",
              "      <td>P00001</td>\n",
              "      <td>2016</td>\n",
              "      <td>IGF::OT::IGF MAINTENANCE OF STRYKER NAV II SYSTEM</td>\n",
              "      <td>68023.62</td>\n",
              "      <td>VA Ann Arbor Healthcare System</td>\n",
              "      <td>US Department of Veterans Affairs (VA)</td>\n",
              "      <td>MI</td>\n",
              "      <td>Ann Arbor</td>\n",
              "      <td>Stryker Corporation</td>\n",
              "      <td>Stryker Corporation</td>\n",
              "      <td>(J065) MAINT/REPAIR/REBUILD OF EQUIPMENT- MEDI...</td>\n",
              "    </tr>\n",
              "  </tbody>\n",
              "</table>\n",
              "</div>\n",
              "    <div class=\"colab-df-buttons\">\n",
              "\n",
              "  <div class=\"colab-df-container\">\n",
              "    <button class=\"colab-df-convert\" onclick=\"convertToInteractive('df-00ae4c30-b508-4f84-8adf-0c47bc995246')\"\n",
              "            title=\"Convert this dataframe to an interactive table.\"\n",
              "            style=\"display:none;\">\n",
              "\n",
              "  <svg xmlns=\"http://www.w3.org/2000/svg\" height=\"24px\" viewBox=\"0 -960 960 960\">\n",
              "    <path d=\"M120-120v-720h720v720H120Zm60-500h600v-160H180v160Zm220 220h160v-160H400v160Zm0 220h160v-160H400v160ZM180-400h160v-160H180v160Zm440 0h160v-160H620v160ZM180-180h160v-160H180v160Zm440 0h160v-160H620v160Z\"/>\n",
              "  </svg>\n",
              "    </button>\n",
              "\n",
              "  <style>\n",
              "    .colab-df-container {\n",
              "      display:flex;\n",
              "      gap: 12px;\n",
              "    }\n",
              "\n",
              "    .colab-df-convert {\n",
              "      background-color: #E8F0FE;\n",
              "      border: none;\n",
              "      border-radius: 50%;\n",
              "      cursor: pointer;\n",
              "      display: none;\n",
              "      fill: #1967D2;\n",
              "      height: 32px;\n",
              "      padding: 0 0 0 0;\n",
              "      width: 32px;\n",
              "    }\n",
              "\n",
              "    .colab-df-convert:hover {\n",
              "      background-color: #E2EBFA;\n",
              "      box-shadow: 0px 1px 2px rgba(60, 64, 67, 0.3), 0px 1px 3px 1px rgba(60, 64, 67, 0.15);\n",
              "      fill: #174EA6;\n",
              "    }\n",
              "\n",
              "    .colab-df-buttons div {\n",
              "      margin-bottom: 4px;\n",
              "    }\n",
              "\n",
              "    [theme=dark] .colab-df-convert {\n",
              "      background-color: #3B4455;\n",
              "      fill: #D2E3FC;\n",
              "    }\n",
              "\n",
              "    [theme=dark] .colab-df-convert:hover {\n",
              "      background-color: #434B5C;\n",
              "      box-shadow: 0px 1px 3px 1px rgba(0, 0, 0, 0.15);\n",
              "      filter: drop-shadow(0px 1px 2px rgba(0, 0, 0, 0.3));\n",
              "      fill: #FFFFFF;\n",
              "    }\n",
              "  </style>\n",
              "\n",
              "    <script>\n",
              "      const buttonEl =\n",
              "        document.querySelector('#df-00ae4c30-b508-4f84-8adf-0c47bc995246 button.colab-df-convert');\n",
              "      buttonEl.style.display =\n",
              "        google.colab.kernel.accessAllowed ? 'block' : 'none';\n",
              "\n",
              "      async function convertToInteractive(key) {\n",
              "        const element = document.querySelector('#df-00ae4c30-b508-4f84-8adf-0c47bc995246');\n",
              "        const dataTable =\n",
              "          await google.colab.kernel.invokeFunction('convertToInteractive',\n",
              "                                                    [key], {});\n",
              "        if (!dataTable) return;\n",
              "\n",
              "        const docLinkHtml = 'Like what you see? Visit the ' +\n",
              "          '<a target=\"_blank\" href=https://colab.research.google.com/notebooks/data_table.ipynb>data table notebook</a>'\n",
              "          + ' to learn more about interactive tables.';\n",
              "        element.innerHTML = '';\n",
              "        dataTable['output_type'] = 'display_data';\n",
              "        await google.colab.output.renderOutput(dataTable, element);\n",
              "        const docLink = document.createElement('div');\n",
              "        docLink.innerHTML = docLinkHtml;\n",
              "        element.appendChild(docLink);\n",
              "      }\n",
              "    </script>\n",
              "  </div>\n",
              "\n",
              "\n",
              "<div id=\"df-4129a9c4-013e-4615-93b2-c0bdcf418f42\">\n",
              "  <button class=\"colab-df-quickchart\" onclick=\"quickchart('df-4129a9c4-013e-4615-93b2-c0bdcf418f42')\"\n",
              "            title=\"Suggest charts\"\n",
              "            style=\"display:none;\">\n",
              "\n",
              "<svg xmlns=\"http://www.w3.org/2000/svg\" height=\"24px\"viewBox=\"0 0 24 24\"\n",
              "     width=\"24px\">\n",
              "    <g>\n",
              "        <path d=\"M19 3H5c-1.1 0-2 .9-2 2v14c0 1.1.9 2 2 2h14c1.1 0 2-.9 2-2V5c0-1.1-.9-2-2-2zM9 17H7v-7h2v7zm4 0h-2V7h2v10zm4 0h-2v-4h2v4z\"/>\n",
              "    </g>\n",
              "</svg>\n",
              "  </button>\n",
              "\n",
              "<style>\n",
              "  .colab-df-quickchart {\n",
              "      --bg-color: #E8F0FE;\n",
              "      --fill-color: #1967D2;\n",
              "      --hover-bg-color: #E2EBFA;\n",
              "      --hover-fill-color: #174EA6;\n",
              "      --disabled-fill-color: #AAA;\n",
              "      --disabled-bg-color: #DDD;\n",
              "  }\n",
              "\n",
              "  [theme=dark] .colab-df-quickchart {\n",
              "      --bg-color: #3B4455;\n",
              "      --fill-color: #D2E3FC;\n",
              "      --hover-bg-color: #434B5C;\n",
              "      --hover-fill-color: #FFFFFF;\n",
              "      --disabled-bg-color: #3B4455;\n",
              "      --disabled-fill-color: #666;\n",
              "  }\n",
              "\n",
              "  .colab-df-quickchart {\n",
              "    background-color: var(--bg-color);\n",
              "    border: none;\n",
              "    border-radius: 50%;\n",
              "    cursor: pointer;\n",
              "    display: none;\n",
              "    fill: var(--fill-color);\n",
              "    height: 32px;\n",
              "    padding: 0;\n",
              "    width: 32px;\n",
              "  }\n",
              "\n",
              "  .colab-df-quickchart:hover {\n",
              "    background-color: var(--hover-bg-color);\n",
              "    box-shadow: 0 1px 2px rgba(60, 64, 67, 0.3), 0 1px 3px 1px rgba(60, 64, 67, 0.15);\n",
              "    fill: var(--button-hover-fill-color);\n",
              "  }\n",
              "\n",
              "  .colab-df-quickchart-complete:disabled,\n",
              "  .colab-df-quickchart-complete:disabled:hover {\n",
              "    background-color: var(--disabled-bg-color);\n",
              "    fill: var(--disabled-fill-color);\n",
              "    box-shadow: none;\n",
              "  }\n",
              "\n",
              "  .colab-df-spinner {\n",
              "    border: 2px solid var(--fill-color);\n",
              "    border-color: transparent;\n",
              "    border-bottom-color: var(--fill-color);\n",
              "    animation:\n",
              "      spin 1s steps(1) infinite;\n",
              "  }\n",
              "\n",
              "  @keyframes spin {\n",
              "    0% {\n",
              "      border-color: transparent;\n",
              "      border-bottom-color: var(--fill-color);\n",
              "      border-left-color: var(--fill-color);\n",
              "    }\n",
              "    20% {\n",
              "      border-color: transparent;\n",
              "      border-left-color: var(--fill-color);\n",
              "      border-top-color: var(--fill-color);\n",
              "    }\n",
              "    30% {\n",
              "      border-color: transparent;\n",
              "      border-left-color: var(--fill-color);\n",
              "      border-top-color: var(--fill-color);\n",
              "      border-right-color: var(--fill-color);\n",
              "    }\n",
              "    40% {\n",
              "      border-color: transparent;\n",
              "      border-right-color: var(--fill-color);\n",
              "      border-top-color: var(--fill-color);\n",
              "    }\n",
              "    60% {\n",
              "      border-color: transparent;\n",
              "      border-right-color: var(--fill-color);\n",
              "    }\n",
              "    80% {\n",
              "      border-color: transparent;\n",
              "      border-right-color: var(--fill-color);\n",
              "      border-bottom-color: var(--fill-color);\n",
              "    }\n",
              "    90% {\n",
              "      border-color: transparent;\n",
              "      border-bottom-color: var(--fill-color);\n",
              "    }\n",
              "  }\n",
              "</style>\n",
              "\n",
              "  <script>\n",
              "    async function quickchart(key) {\n",
              "      const quickchartButtonEl =\n",
              "        document.querySelector('#' + key + ' button');\n",
              "      quickchartButtonEl.disabled = true;  // To prevent multiple clicks.\n",
              "      quickchartButtonEl.classList.add('colab-df-spinner');\n",
              "      try {\n",
              "        const charts = await google.colab.kernel.invokeFunction(\n",
              "            'suggestCharts', [key], {});\n",
              "      } catch (error) {\n",
              "        console.error('Error during call to suggestCharts:', error);\n",
              "      }\n",
              "      quickchartButtonEl.classList.remove('colab-df-spinner');\n",
              "      quickchartButtonEl.classList.add('colab-df-quickchart-complete');\n",
              "    }\n",
              "    (() => {\n",
              "      let quickchartButtonEl =\n",
              "        document.querySelector('#df-4129a9c4-013e-4615-93b2-c0bdcf418f42 button');\n",
              "      quickchartButtonEl.style.display =\n",
              "        google.colab.kernel.accessAllowed ? 'block' : 'none';\n",
              "    })();\n",
              "  </script>\n",
              "</div>\n",
              "    </div>\n",
              "  </div>\n"
            ]
          },
          "metadata": {},
          "execution_count": 4
        }
      ]
    },
    {
      "cell_type": "code",
      "source": [
        "df.info(verbose=True) #understand the shape of the data\n"
      ],
      "metadata": {
        "colab": {
          "base_uri": "https://localhost:8080/"
        },
        "id": "TX41C6cAiYEd",
        "outputId": "cf80e250-b7f0-4f61-eb64-583c2e794212"
      },
      "execution_count": null,
      "outputs": [
        {
          "output_type": "stream",
          "name": "stdout",
          "text": [
            "<class 'pandas.core.frame.DataFrame'>\n",
            "RangeIndex: 54379 entries, 0 to 54378\n",
            "Data columns (total 14 columns):\n",
            " #   Column                      Non-Null Count  Dtype  \n",
            "---  ------                      --------------  -----  \n",
            " 0   ID                          54379 non-null  int64  \n",
            " 1   Contract Number (IDVPIID)   40102 non-null  object \n",
            " 2   Award Number (PIID)         54254 non-null  object \n",
            " 3   Modification Number         52895 non-null  object \n",
            " 4   Fiscal Year                 54379 non-null  int64  \n",
            " 5   Title                       54376 non-null  object \n",
            " 6   Awarded Amount              53081 non-null  float64\n",
            " 7   Contracting Office          54379 non-null  object \n",
            " 8   Contracting Agency          54379 non-null  object \n",
            " 9   Place of Performance State  52007 non-null  object \n",
            " 10  Place of Performance City   52007 non-null  object \n",
            " 11  Vendor  Name                54379 non-null  object \n",
            " 12  Vendor  Top Name            54379 non-null  object \n",
            " 13  PSC Name                    53631 non-null  object \n",
            "dtypes: float64(1), int64(2), object(11)\n",
            "memory usage: 5.8+ MB\n"
          ]
        }
      ]
    },
    {
      "cell_type": "markdown",
      "source": [
        "The df.info output tells us the ContractNumber has a significant amount (~25%) of missing fields.\n",
        "Good news, every field has a vendor name. Normalizing might be tricky, but we don't have to augment missing data in those fields.\n",
        "The Awarded Amount field has some missing values, but it's only ~2%. We will keep tabs on it and see if that is a problem later in the analysis."
      ],
      "metadata": {
        "id": "uTMWbLDIjmcy"
      }
    },
    {
      "cell_type": "markdown",
      "source": [
        "A quick glance at the excel document showed that the \"Contracting Agency\" was not limited to just DoD. We are going to see how much of the data, in volume and dollar amount, is going to DoD. The rest of the analysis will be limited to DoD but this is to check that this data source will give us enough information."
      ],
      "metadata": {
        "id": "_3_JiNwikFVi"
      }
    },
    {
      "cell_type": "code",
      "source": [
        "pd.set_option(\"display.max_rows\", None) #show all rows in the value counts table.\n",
        "#Quick sanity check that there isn't duplication like \"US Department of Defense\" with and without parentheses()\n",
        "df.value_counts(df['Contracting Agency']) #count of rows categorized by each agency"
      ],
      "metadata": {
        "colab": {
          "base_uri": "https://localhost:8080/"
        },
        "id": "Ol1twIxqkrTX",
        "outputId": "14fd303b-6a91-4b62-b2ca-66a36a4f4b20"
      },
      "execution_count": null,
      "outputs": [
        {
          "output_type": "execute_result",
          "data": {
            "text/plain": [
              "Contracting Agency\n",
              "US Department of Defense (DoD)                                39422\n",
              "US Department of Veterans Affairs (VA)                        13337\n",
              "US Department of Health and Human Services (HHS)                342\n",
              "Department of Veterans Affairs                                  190\n",
              "US Department of Justice (DOJ)                                  155\n",
              "US Department of State (DOS)                                    125\n",
              "US Department of Homeland Security (DHS)                        110\n",
              "US Department of the Interior (DOI)                             100\n",
              "United States General Services Administration (GSA)              81\n",
              "US Department of Agriculture (USDA)                              60\n",
              "Government of Canada                                             51\n",
              "US Department of Commerce (DOC)                                  45\n",
              "US Department of the Treasury                                    37\n",
              "US Department of Transportation (DOT)                            29\n",
              "State of South Carolina                                          26\n",
              "State of New York                                                25\n",
              "Government of Poland                                             25\n",
              "State of North Carolina                                          24\n",
              "US Department of Housing and Urban Development (HUD)             19\n",
              "Consumer Financial Protection Bureau (CFPB)                      18\n",
              "Government of the United Kingdom                                 13\n",
              "The National Aeronautics and Space Administration (NASA)         13\n",
              "State of Nebraska                                                12\n",
              "State of Illinois                                                11\n",
              "Metropolitan Water Reclamation District of Greater Chicago        9\n",
              "US Social Security Administration (SSA)                           8\n",
              "US Department of Energy (DOE)                                     6\n",
              "Smithsonian Institution                                           6\n",
              "Assistant Secretary for Preparedness and Response                 5\n",
              "US Agency for International Development (USAID)                   5\n",
              "National Transportation Safety Board (NTSB)                       4\n",
              "Los Angeles County                                                4\n",
              "New York City                                                     3\n",
              "City of Los Angeles                                               2\n",
              "Cherry Hospital                                                   2\n",
              "State of Colorado                                                 2\n",
              "State of California                                               2\n",
              "State of Arkansas                                                 2\n",
              "State of Alabama                                                  2\n",
              "State of Maryland                                                 2\n",
              "City of El Paso                                                   2\n",
              "City of St. Catharines                                            2\n",
              "National Gallery of Art (NGA)                                     2\n",
              "Taos County                                                       2\n",
              "North Atlantic Treaty Organization                                2\n",
              "State of Ohio                                                     1\n",
              "State of Hawaii                                                   1\n",
              "State of Maine                                                    1\n",
              "State of Oklahoma                                                 1\n",
              "State of Rhode Island                                             1\n",
              "Orange County Transportation Authority                            1\n",
              "State of Florida                                                  1\n",
              "Government Accountability Office (GAO)                            1\n",
              "Charles County                                                    1\n",
              "City of Chicago                                                   1\n",
              "City of Lincoln                                                   1\n",
              "City of Louisville                                                1\n",
              "City of Memphis                                                   1\n",
              "City of Mobile                                                    1\n",
              "City of Northport                                                 1\n",
              "Comptroller General of the United States, GAO                     1\n",
              "Department of Corrections                                         1\n",
              "Department of Health                                              1\n",
              "Department of Social Services                                     1\n",
              "General Services Department: State Purchasing Division            1\n",
              "Health and Human Services System                                  1\n",
              "St. Johns County                                                  1\n",
              "Henrico County                                                    1\n",
              "Imperial Irrigation District                                      1\n",
              "Lake County                                                       1\n",
              "Lincoln County                                                    1\n",
              "Longleaf Neuro-Medical Treatment Center                           1\n",
              "Metropolitan Washington Airports Authority                        1\n",
              "National Science Foundation (NSF)                                 1\n",
              "Ocean County                                                      1\n",
              "Orange County                                                     1\n",
              "Catawba County                                                    1\n",
              "Port Authority of New York and New Jersey                         1\n",
              "Ramsey County                                                     1\n",
              "Village of Los Lunas                                              1\n",
              "dtype: int64"
            ]
          },
          "metadata": {},
          "execution_count": 6
        }
      ]
    },
    {
      "cell_type": "markdown",
      "source": [
        "The majority of this data (by row count) is DoD, so it's a good place to start. Next I want to start to look at the dollar values in the data to make sure it generally aligns with what we're looking for."
      ],
      "metadata": {
        "id": "MoXdR0LvmNNG"
      }
    },
    {
      "cell_type": "code",
      "source": [
        "pd.set_option(\"display.max_rows\", 5) #revert back to only showing 5 rows in data tables\n",
        "df_amt = pd.pivot_table(df, index = ['Contracting Agency'], values = ['Awarded Amount'], aggfunc=\"sum\") #pivot the data by contract agency\n",
        "df_amt = df_amt.sort_values(by=['Awarded Amount'], ascending=False) #sort by awarded amount"
      ],
      "metadata": {
        "id": "nzgF-aVcmwBz"
      },
      "execution_count": null,
      "outputs": []
    },
    {
      "cell_type": "code",
      "source": [
        "#show in a bar graph just to understand magnitude\n",
        "df_amt = df_amt.head(10) #keep only the top 10 agencies\n",
        "df_amt['Awarded Amount'].plot(kind='bar', color='skyblue')\n",
        "plt.title('FY16-20 Awarded Amount by Contracting Agency')\n",
        "plt.ylabel('Awarded Amount')\n",
        "plt.show()"
      ],
      "metadata": {
        "colab": {
          "base_uri": "https://localhost:8080/",
          "height": 826
        },
        "id": "oe5BRHkRoil-",
        "outputId": "5293cdc5-1f78-4af8-cf29-9e63aef69a84"
      },
      "execution_count": null,
      "outputs": [
        {
          "output_type": "display_data",
          "data": {
            "text/plain": [
              "<Figure size 640x480 with 1 Axes>"
            ],
            "image/png": "[encoded data removed]"
          },
          "metadata": {}
        }
      ]
    },
    {
      "cell_type": "markdown",
      "source": [
        "Sanity check, this data seems to be heavily DoD by dollar amount. I feel good about isolating the data just to DoD."
      ],
      "metadata": {
        "id": "auFgF0uGrr91"
      }
    },
    {
      "cell_type": "code",
      "source": [
        "df_dod = df.loc[df['Contracting Agency'] == 'US Department of Defense (DoD)'] #isolate data to columns where DoD is the contracting Agency\n",
        "df_dod.dropna(subset = 'Contracting Agency', inplace=True) #drop any blank rows"
      ],
      "metadata": {
        "id": "rliZ9BuQryje",
        "colab": {
          "base_uri": "https://localhost:8080/"
        },
        "outputId": "d5147bfc-fbf1-4d52-a205-36c6aaa30765"
      },
      "execution_count": null,
      "outputs": [
        {
          "output_type": "stream",
          "name": "stderr",
          "text": [
            "<ipython-input-9-0c2a841f7f32>:2: SettingWithCopyWarning: \n",
            "A value is trying to be set on a copy of a slice from a DataFrame\n",
            "\n",
            "See the caveats in the documentation: https://pandas.pydata.org/pandas-docs/stable/user_guide/indexing.html#returning-a-view-versus-a-copy\n",
            "  df_dod.dropna(subset = 'Contracting Agency', inplace=True) #drop any blank rows\n"
          ]
        }
      ]
    },
    {
      "cell_type": "code",
      "source": [
        "df_dod.info()\n",
        "#the data is 39,422 entries, same as we saw above so the code works.\n",
        "#awarded amount is in place for 97.5% of the data. with the large amount spent at DoD, that's probably good enough, but we'll keep tabs on it."
      ],
      "metadata": {
        "colab": {
          "base_uri": "https://localhost:8080/"
        },
        "id": "tpldr_eWslto",
        "outputId": "9856b962-50ed-43c7-c7bc-3249623587d1"
      },
      "execution_count": null,
      "outputs": [
        {
          "output_type": "stream",
          "name": "stdout",
          "text": [
            "<class 'pandas.core.frame.DataFrame'>\n",
            "Int64Index: 39422 entries, 0 to 54376\n",
            "Data columns (total 14 columns):\n",
            " #   Column                      Non-Null Count  Dtype  \n",
            "---  ------                      --------------  -----  \n",
            " 0   ID                          39422 non-null  int64  \n",
            " 1   Contract Number (IDVPIID)   31105 non-null  object \n",
            " 2   Award Number (PIID)         39422 non-null  object \n",
            " 3   Modification Number         38445 non-null  object \n",
            " 4   Fiscal Year                 39422 non-null  int64  \n",
            " 5   Title                       39422 non-null  object \n",
            " 6   Awarded Amount              38445 non-null  float64\n",
            " 7   Contracting Office          39422 non-null  object \n",
            " 8   Contracting Agency          39422 non-null  object \n",
            " 9   Place of Performance State  37640 non-null  object \n",
            " 10  Place of Performance City   37640 non-null  object \n",
            " 11  Vendor  Name                39422 non-null  object \n",
            " 12  Vendor  Top Name            39422 non-null  object \n",
            " 13  PSC Name                    38954 non-null  object \n",
            "dtypes: float64(1), int64(2), object(11)\n",
            "memory usage: 4.5+ MB\n"
          ]
        }
      ]
    },
    {
      "cell_type": "markdown",
      "source": [
        "Now that we've isolated to DoD data...let's see how messy this data is. The client wants to normalize vendor names and contract numbers. Let's clean some data!"
      ],
      "metadata": {
        "id": "U0LUtQubyd84"
      }
    },
    {
      "cell_type": "markdown",
      "source": [
        "1. General normalization"
      ],
      "metadata": {
        "id": "7Xelm84BFC5D"
      }
    },
    {
      "cell_type": "code",
      "source": [
        "#what are we working with?\n",
        "pd.set_option(\"display.max_rows\", 30) #show all rows in the value counts table.\n",
        "#note: I had this set to None to glance at the vendor names. I changed it to 30 to get a feel for how many less Vendor Names there were after the normalization\n",
        "#the first problem is the column names have extra spaces...let's fix that\n",
        "df_dod.columns = df_dod.columns.str.replace(r'\\s+', ' ', regex=True).str.strip() #removes extra spaces within the column names\n",
        "df_dod.columns = [col.strip() for col in df_dod.columns] #strips the extra spaces at the beginning and end, for good measure\n",
        "df_dod.info()"
      ],
      "metadata": {
        "colab": {
          "base_uri": "https://localhost:8080/"
        },
        "id": "XLGE3Om7zuK5",
        "outputId": "7c6e0119-f72f-4ef1-cfe4-25cc75fb613c"
      },
      "execution_count": null,
      "outputs": [
        {
          "output_type": "stream",
          "name": "stdout",
          "text": [
            "<class 'pandas.core.frame.DataFrame'>\n",
            "Int64Index: 39422 entries, 0 to 54376\n",
            "Data columns (total 14 columns):\n",
            " #   Column                      Non-Null Count  Dtype  \n",
            "---  ------                      --------------  -----  \n",
            " 0   ID                          39422 non-null  int64  \n",
            " 1   Contract Number (IDVPIID)   31105 non-null  object \n",
            " 2   Award Number (PIID)         39422 non-null  object \n",
            " 3   Modification Number         38445 non-null  object \n",
            " 4   Fiscal Year                 39422 non-null  int64  \n",
            " 5   Title                       39422 non-null  object \n",
            " 6   Awarded Amount              38445 non-null  float64\n",
            " 7   Contracting Office          39422 non-null  object \n",
            " 8   Contracting Agency          39422 non-null  object \n",
            " 9   Place of Performance State  37640 non-null  object \n",
            " 10  Place of Performance City   37640 non-null  object \n",
            " 11  Vendor Name                 39422 non-null  object \n",
            " 12  Vendor Top Name             39422 non-null  object \n",
            " 13  PSC Name                    38954 non-null  object \n",
            "dtypes: float64(1), int64(2), object(11)\n",
            "memory usage: 4.5+ MB\n"
          ]
        }
      ]
    },
    {
      "cell_type": "code",
      "source": [
        "df_dod.value_counts(df_dod['Vendor Name'])"
      ],
      "metadata": {
        "colab": {
          "base_uri": "https://localhost:8080/"
        },
        "id": "IIaIXUNgzBEx",
        "outputId": "339d2433-b94b-45e7-b2cb-aada2cbfa220"
      },
      "execution_count": null,
      "outputs": [
        {
          "output_type": "execute_result",
          "data": {
            "text/plain": [
              "Vendor Name\n",
              "Howmedica Osteonics Corp.              22525\n",
              "Beacon Point Associates LLC             2700\n",
              "General Dynamics Land Systems Inc.      1204\n",
              "Physio-Control, Inc.                    1156\n",
              "Stryker Sales, LLC                       799\n",
              "                                       ...  \n",
              "Kzf Design Inc.                            1\n",
              "Kuog Corporation                           1\n",
              "Kulite Semiconductor Products, Inc.        1\n",
              "Kranze Technology Solutions, Inc.          1\n",
              "Zumar Industries, Inc.                     1\n",
              "Length: 887, dtype: int64"
            ]
          },
          "metadata": {},
          "execution_count": 12
        }
      ]
    },
    {
      "cell_type": "code",
      "source": [
        "df_dod.value_counts(df_dod['Vendor Top Name'])"
      ],
      "metadata": {
        "colab": {
          "base_uri": "https://localhost:8080/"
        },
        "id": "PT_sic2HW2i_",
        "outputId": "1d4f492a-aaf0-4539-d14f-9d7b22e97a15"
      },
      "execution_count": null,
      "outputs": [
        {
          "output_type": "execute_result",
          "data": {
            "text/plain": [
              "Vendor Top Name\n",
              "Stryker Corporation             25074\n",
              "Beacon Point Associates LLC      2700\n",
              "General Dynamics Corporation     1103\n",
              "BAE SYSTEMS PLC                   570\n",
              "General Dynamics Corp.            508\n",
              "                                ...  \n",
              "KZF Design Inc.                     1\n",
              "KRAFT TELEROBOTICS, INC             1\n",
              "2t-MII Ae, LLC                      1\n",
              "KFS, LLC                            1\n",
              "thyssenkrupp AG                     1\n",
              "Length: 807, dtype: int64"
            ]
          },
          "metadata": {},
          "execution_count": 13
        }
      ]
    },
    {
      "cell_type": "markdown",
      "source": [
        "What I see here is inconsistency with punctuation (such as LLC vs L.L.C.) and potentially extraneous spaces. There are some typos, but for the purposes of this assignment I will clean up the systemic issues and group what we need to in Tableau."
      ],
      "metadata": {
        "id": "4FDLqyq-25VY"
      }
    },
    {
      "cell_type": "markdown",
      "source": [
        "For both Vendor Name and Vendor Top Name, we will remove all punctuation and extra spaces. That won't solve every problem, but will get us in the right direction for minimal cleanup."
      ],
      "metadata": {
        "id": "UohXhmuD3c-P"
      }
    },
    {
      "cell_type": "code",
      "source": [
        "# Function to normalize text (remove punctuation and extra spaces)\n",
        "def normalize_text(text):\n",
        "    # Remove punctuation\n",
        "    text = text.translate(str.maketrans('', '', string.punctuation))\n",
        "    # Remove extra spaces\n",
        "    text = ' '.join(text.split())\n",
        "    # Make everything lowercase\n",
        "    text = text.lower()\n",
        "    return text"
      ],
      "metadata": {
        "id": "ys2u0pMN4J6L"
      },
      "execution_count": null,
      "outputs": []
    },
    {
      "cell_type": "code",
      "source": [
        "#let's normalize everything that has free text\n",
        "df_dod['Vendor Name'] = df_dod['Vendor Name'].apply(normalize_text)\n",
        "df_dod['Vendor Top Name'] = df_dod['Vendor Top Name'].apply(normalize_text)\n",
        "df_dod['Contracting Office'] = df_dod['Contracting Office'].apply(normalize_text)\n",
        "#df_dod['Title'] = df_dod['Title'].apply(normalize_text)\n"
      ],
      "metadata": {
        "colab": {
          "base_uri": "https://localhost:8080/"
        },
        "id": "ZrU1DXTu4VUf",
        "outputId": "f1148210-6b40-47aa-d58c-8bbc7206f140"
      },
      "execution_count": null,
      "outputs": [
        {
          "output_type": "stream",
          "name": "stderr",
          "text": [
            "<ipython-input-15-60ee1c52759f>:2: SettingWithCopyWarning: \n",
            "A value is trying to be set on a copy of a slice from a DataFrame.\n",
            "Try using .loc[row_indexer,col_indexer] = value instead\n",
            "\n",
            "See the caveats in the documentation: https://pandas.pydata.org/pandas-docs/stable/user_guide/indexing.html#returning-a-view-versus-a-copy\n",
            "  df_dod['Vendor Name'] = df_dod['Vendor Name'].apply(normalize_text)\n",
            "<ipython-input-15-60ee1c52759f>:3: SettingWithCopyWarning: \n",
            "A value is trying to be set on a copy of a slice from a DataFrame.\n",
            "Try using .loc[row_indexer,col_indexer] = value instead\n",
            "\n",
            "See the caveats in the documentation: https://pandas.pydata.org/pandas-docs/stable/user_guide/indexing.html#returning-a-view-versus-a-copy\n",
            "  df_dod['Vendor Top Name'] = df_dod['Vendor Top Name'].apply(normalize_text)\n",
            "<ipython-input-15-60ee1c52759f>:4: SettingWithCopyWarning: \n",
            "A value is trying to be set on a copy of a slice from a DataFrame.\n",
            "Try using .loc[row_indexer,col_indexer] = value instead\n",
            "\n",
            "See the caveats in the documentation: https://pandas.pydata.org/pandas-docs/stable/user_guide/indexing.html#returning-a-view-versus-a-copy\n",
            "  df_dod['Contracting Office'] = df_dod['Contracting Office'].apply(normalize_text)\n"
          ]
        }
      ]
    },
    {
      "cell_type": "code",
      "source": [
        "pd.set_option(\"display.max_rows\", 30)\n",
        "df_dod.value_counts(df_dod['Vendor Top Name'])"
      ],
      "metadata": {
        "colab": {
          "base_uri": "https://localhost:8080/"
        },
        "id": "dfuiqUA146Uj",
        "outputId": "4fc78eb5-6454-4d7a-f39c-0e792bf80f78"
      },
      "execution_count": null,
      "outputs": [
        {
          "output_type": "execute_result",
          "data": {
            "text/plain": [
              "Vendor Top Name\n",
              "stryker corporation                           25074\n",
              "beacon point associates llc                    2700\n",
              "general dynamics corporation                   1103\n",
              "bae systems plc                                 570\n",
              "general dynamics corp                           508\n",
              "                                              ...  \n",
              "2tmii ae llc                                      1\n",
              "kamlo llc                                         1\n",
              "kalamazoo manufacturing corporation global        1\n",
              "john m ellsworth co inc                           1\n",
              "zumar industries inc                              1\n",
              "Length: 798, dtype: int64"
            ]
          },
          "metadata": {},
          "execution_count": 16
        }
      ]
    },
    {
      "cell_type": "markdown",
      "source": [
        "The function worked as intended, but there is the same amount of unique vendors from before. Tthis will take some more finageling, to get the \"General Dynamics Land Systems\" combined with \"General Dynamics\". In previous roles, I've done this kind of data cleaning manually in Excel. It sucks! So Chat GPT introduced me to a package called \"fuzzy wuzzy.\" Let's see if that gets us to where we want to be."
      ],
      "metadata": {
        "id": "MCqVhDDA6N2P"
      }
    },
    {
      "cell_type": "code",
      "source": [
        "!pip install fuzzywuzzy\n",
        "import fuzzywuzzy\n",
        "from fuzzywuzzy import fuzz\n",
        "#github: https://github.com/seatgeek/thefuzz#thefuzz"
      ],
      "metadata": {
        "id": "TerxN7qi7BCu",
        "colab": {
          "base_uri": "https://localhost:8080/"
        },
        "outputId": "6f5fe178-189d-4ae8-e777-11b19e049b00"
      },
      "execution_count": null,
      "outputs": [
        {
          "output_type": "stream",
          "name": "stdout",
          "text": [
            "Collecting fuzzywuzzy\n",
            "  Downloading fuzzywuzzy-0.18.0-py2.py3-none-any.whl (18 kB)\n",
            "Installing collected packages: fuzzywuzzy\n",
            "Successfully installed fuzzywuzzy-0.18.0\n"
          ]
        },
        {
          "output_type": "stream",
          "name": "stderr",
          "text": [
            "/usr/local/lib/python3.10/dist-packages/fuzzywuzzy/fuzz.py:11: UserWarning: Using slow pure-python SequenceMatcher. Install python-Levenshtein to remove this warning\n",
            "  warnings.warn('Using slow pure-python SequenceMatcher. Install python-Levenshtein to remove this warning')\n"
          ]
        }
      ]
    },
    {
      "cell_type": "markdown",
      "source": [
        "Fuzzywuzzy uses a calculation to determine how similar two strings are. In the function below, we set a ratio to determine if strings are similar. I don't know what a good benchmark is, so let's determine a benchmark.\n",
        "\n",
        "If I were doing this manually in Excel, I would see these two names and group them together. Let's see what the ratio is."
      ],
      "metadata": {
        "id": "Ypk2iOyEAXOe"
      }
    },
    {
      "cell_type": "code",
      "source": [
        "str1 = 'Stryker Corporation'\n",
        "str2 = 'Stryker Sales LLC'\n",
        "print(fuzz.partial_ratio(str1.lower(),str2.lower()))"
      ],
      "metadata": {
        "colab": {
          "base_uri": "https://localhost:8080/"
        },
        "id": "3nbk-hsqAWOG",
        "outputId": "9811081a-0581-4b00-cc06-c7095f92b613"
      },
      "execution_count": null,
      "outputs": [
        {
          "output_type": "stream",
          "name": "stdout",
          "text": [
            "53\n"
          ]
        }
      ]
    },
    {
      "cell_type": "markdown",
      "source": [
        "53 is way lower than the reccomended 80. Let's set the ratio at 60."
      ],
      "metadata": {
        "id": "PAsW4vOHBT5o"
      }
    },
    {
      "cell_type": "code",
      "source": [
        "# Function to group similar strings\n",
        "def group_similar_strings(data):\n",
        "    grouped_strings = {}\n",
        "\n",
        "    for string in data:\n",
        "        found = False\n",
        "        for group in grouped_strings:\n",
        "            # Using partial_ratio to compare strings\n",
        "            if fuzz.partial_ratio(string, group) >= 80:  #Reccomended threshold. I experimented with other thresholds and this works the best.\n",
        "                grouped_strings[group].append(string)\n",
        "                found = True\n",
        "                break\n",
        "\n",
        "        if not found:\n",
        "            grouped_strings[string] = [string]\n",
        "\n",
        "    return grouped_strings"
      ],
      "metadata": {
        "id": "P3I9ow4p6NM1"
      },
      "execution_count": null,
      "outputs": []
    },
    {
      "cell_type": "code",
      "source": [
        "# Group similar strings across the entire column\n",
        "grouped_vendor_name = group_similar_strings(df_dod['Vendor Name'])\n",
        "grouped_vendor_top_name = group_similar_strings(df_dod['Vendor Top Name'])\n",
        "grouped_contract_office = group_similar_strings(df_dod['Contracting Office'])\n",
        "\n",
        "# Create a mapping dictionary to map each original value to its group\n",
        "map_vendor_name = {value: key for key, values in grouped_vendor_name.items() for value in values}\n",
        "map_vendor_top_name = {value: key for key, values in grouped_vendor_top_name.items() for value in values}\n",
        "map_contract_office = {value: key for key, values in grouped_contract_office.items() for value in values}\n",
        "\n",
        "# Create a new column with the grouped values\n",
        "df_dod['Vendor Name Clean'] = df_dod['Vendor Name'].map(map_vendor_name)\n",
        "df_dod['Vendor Top Name Clean'] = df_dod['Vendor Top Name'].map(map_vendor_top_name)\n",
        "df_dod['Contracting Office Clean'] = df_dod['Contracting Office'].map(map_contract_office)"
      ],
      "metadata": {
        "colab": {
          "base_uri": "https://localhost:8080/"
        },
        "id": "WfulFGD-ZZb0",
        "outputId": "ac1bc2f8-e05b-4754-80fd-4619037b8887"
      },
      "execution_count": null,
      "outputs": [
        {
          "output_type": "stream",
          "name": "stderr",
          "text": [
            "<ipython-input-22-b0c5830e5afb>:12: SettingWithCopyWarning: \n",
            "A value is trying to be set on a copy of a slice from a DataFrame.\n",
            "Try using .loc[row_indexer,col_indexer] = value instead\n",
            "\n",
            "See the caveats in the documentation: https://pandas.pydata.org/pandas-docs/stable/user_guide/indexing.html#returning-a-view-versus-a-copy\n",
            "  df_dod['Vendor Name Clean'] = df_dod['Vendor Name'].map(map_vendor_name)\n",
            "<ipython-input-22-b0c5830e5afb>:13: SettingWithCopyWarning: \n",
            "A value is trying to be set on a copy of a slice from a DataFrame.\n",
            "Try using .loc[row_indexer,col_indexer] = value instead\n",
            "\n",
            "See the caveats in the documentation: https://pandas.pydata.org/pandas-docs/stable/user_guide/indexing.html#returning-a-view-versus-a-copy\n",
            "  df_dod['Vendor Top Name Clean'] = df_dod['Vendor Top Name'].map(map_vendor_top_name)\n",
            "<ipython-input-22-b0c5830e5afb>:14: SettingWithCopyWarning: \n",
            "A value is trying to be set on a copy of a slice from a DataFrame.\n",
            "Try using .loc[row_indexer,col_indexer] = value instead\n",
            "\n",
            "See the caveats in the documentation: https://pandas.pydata.org/pandas-docs/stable/user_guide/indexing.html#returning-a-view-versus-a-copy\n",
            "  df_dod['Contracting Office Clean'] = df_dod['Contracting Office'].map(map_contract_office)\n"
          ]
        }
      ]
    },
    {
      "cell_type": "code",
      "source": [
        "df_dod.head()"
      ],
      "metadata": {
        "colab": {
          "base_uri": "https://localhost:8080/",
          "height": 556
        },
        "id": "B3qr0ftZp3qj",
        "outputId": "a69eae1b-18be-47e4-c3e0-0fcd655c0e2a"
      },
      "execution_count": null,
      "outputs": [
        {
          "output_type": "execute_result",
          "data": {
            "text/plain": [
              "            ID Contract Number (IDVPIID) Award Number (PIID)  \\\n",
              "0    261901205                       NaN       SPE4A616M0117   \n",
              "22   262000126                       NaN       SPE4A616F0002   \n",
              "23   262000315                       NaN       SPE2DS16M0038   \n",
              "39   262035006                       NaN       W56HZV16D0014   \n",
              "190  265007265                       NaN       SPE2DS16M0237   \n",
              "\n",
              "    Modification Number  Fiscal Year  \\\n",
              "0                   NaN         2016   \n",
              "22                  NaN         2016   \n",
              "23                  NaN         2016   \n",
              "39                  NaN         2016   \n",
              "190                 NaN         2016   \n",
              "\n",
              "                                                 Title  Awarded Amount  \\\n",
              "0                                  BEARING,PLAIN,SPHER             NaN   \n",
              "22                                 MODIFICATION KIT,CO             NaN   \n",
              "23                    FIXATION SET,EXTERNAL,ORTHOPEDIC             NaN   \n",
              "39   VEHICULAR BRAKE, STEERING, AXLE, WHEEL, AND TR...             NaN   \n",
              "190                   FIXATION SET,EXTERNAL,ORTHOPEDIC             NaN   \n",
              "\n",
              "                                    Contracting Office  \\\n",
              "0    dla aviation formerly defense supply center ri...   \n",
              "22   dla aviation formerly defense supply center ri...   \n",
              "23                           dla troop support medical   \n",
              "39                acc warren contracting center accwrn   \n",
              "190                          dla troop support medical   \n",
              "\n",
              "                 Contracting Agency Place of Performance State  \\\n",
              "0    US Department of Defense (DoD)                        NaN   \n",
              "22   US Department of Defense (DoD)                        NaN   \n",
              "23   US Department of Defense (DoD)                        NaN   \n",
              "39   US Department of Defense (DoD)                        NaN   \n",
              "190  US Department of Defense (DoD)                        NaN   \n",
              "\n",
              "    Place of Performance City                           Vendor Name  \\\n",
              "0                         NaN  longhorn regional service center llc   \n",
              "22                        NaN             l3harris technologies inc   \n",
              "23                        NaN              howmedica osteonics corp   \n",
              "39                        NaN          seco parts equipment company   \n",
              "190                       NaN              howmedica osteonics corp   \n",
              "\n",
              "                          Vendor Top Name  \\\n",
              "0    longhorn regional service center llc   \n",
              "22              l3harris technologies inc   \n",
              "23                    stryker corporation   \n",
              "39           seco parts equipment company   \n",
              "190                   stryker corporation   \n",
              "\n",
              "                                              PSC Name  \\\n",
              "0                                        (31) BEARINGS   \n",
              "22   (58) COMMUNICATION, DETECTION, AND COHERENT RA...   \n",
              "23   (65) MEDICAL, DENTAL, AND VETERINARY EQUIPMENT...   \n",
              "39                 (25) VEHICULAR EQUIPMENT COMPONENTS   \n",
              "190  (65) MEDICAL, DENTAL, AND VETERINARY EQUIPMENT...   \n",
              "\n",
              "                        Vendor Name Clean  \\\n",
              "0    longhorn regional service center llc   \n",
              "22              l3harris technologies inc   \n",
              "23               howmedica osteonics corp   \n",
              "39           seco parts equipment company   \n",
              "190              howmedica osteonics corp   \n",
              "\n",
              "                    Vendor Top Name Clean  \\\n",
              "0    longhorn regional service center llc   \n",
              "22              l3harris technologies inc   \n",
              "23                    stryker corporation   \n",
              "39           seco parts equipment company   \n",
              "190                   stryker corporation   \n",
              "\n",
              "                              Contracting Office Clean  \n",
              "0    dla aviation formerly defense supply center ri...  \n",
              "22   dla aviation formerly defense supply center ri...  \n",
              "23                           dla troop support medical  \n",
              "39                acc warren contracting center accwrn  \n",
              "190                          dla troop support medical  "
            ],
            "text/html": [
              "\n",
              "  <div id=\"df-626a4e80-b950-4e36-bd79-1e1f8dc96767\" class=\"colab-df-container\">\n",
              "    <div>\n",
              "<style scoped>\n",
              "    .dataframe tbody tr th:only-of-type {\n",
              "        vertical-align: middle;\n",
              "    }\n",
              "\n",
              "    .dataframe tbody tr th {\n",
              "        vertical-align: top;\n",
              "    }\n",
              "\n",
              "    .dataframe thead th {\n",
              "        text-align: right;\n",
              "    }\n",
              "</style>\n",
              "<table border=\"1\" class=\"dataframe\">\n",
              "  <thead>\n",
              "    <tr style=\"text-align: right;\">\n",
              "      <th></th>\n",
              "      <th>ID</th>\n",
              "      <th>Contract Number (IDVPIID)</th>\n",
              "      <th>Award Number (PIID)</th>\n",
              "      <th>Modification Number</th>\n",
              "      <th>Fiscal Year</th>\n",
              "      <th>Title</th>\n",
              "      <th>Awarded Amount</th>\n",
              "      <th>Contracting Office</th>\n",
              "      <th>Contracting Agency</th>\n",
              "      <th>Place of Performance State</th>\n",
              "      <th>Place of Performance City</th>\n",
              "      <th>Vendor Name</th>\n",
              "      <th>Vendor Top Name</th>\n",
              "      <th>PSC Name</th>\n",
              "      <th>Vendor Name Clean</th>\n",
              "      <th>Vendor Top Name Clean</th>\n",
              "      <th>Contracting Office Clean</th>\n",
              "    </tr>\n",
              "  </thead>\n",
              "  <tbody>\n",
              "    <tr>\n",
              "      <th>0</th>\n",
              "      <td>261901205</td>\n",
              "      <td>NaN</td>\n",
              "      <td>SPE4A616M0117</td>\n",
              "      <td>NaN</td>\n",
              "      <td>2016</td>\n",
              "      <td>BEARING,PLAIN,SPHER</td>\n",
              "      <td>NaN</td>\n",
              "      <td>dla aviation formerly defense supply center ri...</td>\n",
              "      <td>US Department of Defense (DoD)</td>\n",
              "      <td>NaN</td>\n",
              "      <td>NaN</td>\n",
              "      <td>longhorn regional service center llc</td>\n",
              "      <td>longhorn regional service center llc</td>\n",
              "      <td>(31) BEARINGS</td>\n",
              "      <td>longhorn regional service center llc</td>\n",
              "      <td>longhorn regional service center llc</td>\n",
              "      <td>dla aviation formerly defense supply center ri...</td>\n",
              "    </tr>\n",
              "    <tr>\n",
              "      <th>22</th>\n",
              "      <td>262000126</td>\n",
              "      <td>NaN</td>\n",
              "      <td>SPE4A616F0002</td>\n",
              "      <td>NaN</td>\n",
              "      <td>2016</td>\n",
              "      <td>MODIFICATION KIT,CO</td>\n",
              "      <td>NaN</td>\n",
              "      <td>dla aviation formerly defense supply center ri...</td>\n",
              "      <td>US Department of Defense (DoD)</td>\n",
              "      <td>NaN</td>\n",
              "      <td>NaN</td>\n",
              "      <td>l3harris technologies inc</td>\n",
              "      <td>l3harris technologies inc</td>\n",
              "      <td>(58) COMMUNICATION, DETECTION, AND COHERENT RA...</td>\n",
              "      <td>l3harris technologies inc</td>\n",
              "      <td>l3harris technologies inc</td>\n",
              "      <td>dla aviation formerly defense supply center ri...</td>\n",
              "    </tr>\n",
              "    <tr>\n",
              "      <th>23</th>\n",
              "      <td>262000315</td>\n",
              "      <td>NaN</td>\n",
              "      <td>SPE2DS16M0038</td>\n",
              "      <td>NaN</td>\n",
              "      <td>2016</td>\n",
              "      <td>FIXATION SET,EXTERNAL,ORTHOPEDIC</td>\n",
              "      <td>NaN</td>\n",
              "      <td>dla troop support medical</td>\n",
              "      <td>US Department of Defense (DoD)</td>\n",
              "      <td>NaN</td>\n",
              "      <td>NaN</td>\n",
              "      <td>howmedica osteonics corp</td>\n",
              "      <td>stryker corporation</td>\n",
              "      <td>(65) MEDICAL, DENTAL, AND VETERINARY EQUIPMENT...</td>\n",
              "      <td>howmedica osteonics corp</td>\n",
              "      <td>stryker corporation</td>\n",
              "      <td>dla troop support medical</td>\n",
              "    </tr>\n",
              "    <tr>\n",
              "      <th>39</th>\n",
              "      <td>262035006</td>\n",
              "      <td>NaN</td>\n",
              "      <td>W56HZV16D0014</td>\n",
              "      <td>NaN</td>\n",
              "      <td>2016</td>\n",
              "      <td>VEHICULAR BRAKE, STEERING, AXLE, WHEEL, AND TR...</td>\n",
              "      <td>NaN</td>\n",
              "      <td>acc warren contracting center accwrn</td>\n",
              "      <td>US Department of Defense (DoD)</td>\n",
              "      <td>NaN</td>\n",
              "      <td>NaN</td>\n",
              "      <td>seco parts equipment company</td>\n",
              "      <td>seco parts equipment company</td>\n",
              "      <td>(25) VEHICULAR EQUIPMENT COMPONENTS</td>\n",
              "      <td>seco parts equipment company</td>\n",
              "      <td>seco parts equipment company</td>\n",
              "      <td>acc warren contracting center accwrn</td>\n",
              "    </tr>\n",
              "    <tr>\n",
              "      <th>190</th>\n",
              "      <td>265007265</td>\n",
              "      <td>NaN</td>\n",
              "      <td>SPE2DS16M0237</td>\n",
              "      <td>NaN</td>\n",
              "      <td>2016</td>\n",
              "      <td>FIXATION SET,EXTERNAL,ORTHOPEDIC</td>\n",
              "      <td>NaN</td>\n",
              "      <td>dla troop support medical</td>\n",
              "      <td>US Department of Defense (DoD)</td>\n",
              "      <td>NaN</td>\n",
              "      <td>NaN</td>\n",
              "      <td>howmedica osteonics corp</td>\n",
              "      <td>stryker corporation</td>\n",
              "      <td>(65) MEDICAL, DENTAL, AND VETERINARY EQUIPMENT...</td>\n",
              "      <td>howmedica osteonics corp</td>\n",
              "      <td>stryker corporation</td>\n",
              "      <td>dla troop support medical</td>\n",
              "    </tr>\n",
              "  </tbody>\n",
              "</table>\n",
              "</div>\n",
              "    <div class=\"colab-df-buttons\">\n",
              "\n",
              "  <div class=\"colab-df-container\">\n",
              "    <button class=\"colab-df-convert\" onclick=\"convertToInteractive('df-626a4e80-b950-4e36-bd79-1e1f8dc96767')\"\n",
              "            title=\"Convert this dataframe to an interactive table.\"\n",
              "            style=\"display:none;\">\n",
              "\n",
              "  <svg xmlns=\"http://www.w3.org/2000/svg\" height=\"24px\" viewBox=\"0 -960 960 960\">\n",
              "    <path d=\"M120-120v-720h720v720H120Zm60-500h600v-160H180v160Zm220 220h160v-160H400v160Zm0 220h160v-160H400v160ZM180-400h160v-160H180v160Zm440 0h160v-160H620v160ZM180-180h160v-160H180v160Zm440 0h160v-160H620v160Z\"/>\n",
              "  </svg>\n",
              "    </button>\n",
              "\n",
              "  <style>\n",
              "    .colab-df-container {\n",
              "      display:flex;\n",
              "      gap: 12px;\n",
              "    }\n",
              "\n",
              "    .colab-df-convert {\n",
              "      background-color: #E8F0FE;\n",
              "      border: none;\n",
              "      border-radius: 50%;\n",
              "      cursor: pointer;\n",
              "      display: none;\n",
              "      fill: #1967D2;\n",
              "      height: 32px;\n",
              "      padding: 0 0 0 0;\n",
              "      width: 32px;\n",
              "    }\n",
              "\n",
              "    .colab-df-convert:hover {\n",
              "      background-color: #E2EBFA;\n",
              "      box-shadow: 0px 1px 2px rgba(60, 64, 67, 0.3), 0px 1px 3px 1px rgba(60, 64, 67, 0.15);\n",
              "      fill: #174EA6;\n",
              "    }\n",
              "\n",
              "    .colab-df-buttons div {\n",
              "      margin-bottom: 4px;\n",
              "    }\n",
              "\n",
              "    [theme=dark] .colab-df-convert {\n",
              "      background-color: #3B4455;\n",
              "      fill: #D2E3FC;\n",
              "    }\n",
              "\n",
              "    [theme=dark] .colab-df-convert:hover {\n",
              "      background-color: #434B5C;\n",
              "      box-shadow: 0px 1px 3px 1px rgba(0, 0, 0, 0.15);\n",
              "      filter: drop-shadow(0px 1px 2px rgba(0, 0, 0, 0.3));\n",
              "      fill: #FFFFFF;\n",
              "    }\n",
              "  </style>\n",
              "\n",
              "    <script>\n",
              "      const buttonEl =\n",
              "        document.querySelector('#df-626a4e80-b950-4e36-bd79-1e1f8dc96767 button.colab-df-convert');\n",
              "      buttonEl.style.display =\n",
              "        google.colab.kernel.accessAllowed ? 'block' : 'none';\n",
              "\n",
              "      async function convertToInteractive(key) {\n",
              "        const element = document.querySelector('#df-626a4e80-b950-4e36-bd79-1e1f8dc96767');\n",
              "        const dataTable =\n",
              "          await google.colab.kernel.invokeFunction('convertToInteractive',\n",
              "                                                    [key], {});\n",
              "        if (!dataTable) return;\n",
              "\n",
              "        const docLinkHtml = 'Like what you see? Visit the ' +\n",
              "          '<a target=\"_blank\" href=https://colab.research.google.com/notebooks/data_table.ipynb>data table notebook</a>'\n",
              "          + ' to learn more about interactive tables.';\n",
              "        element.innerHTML = '';\n",
              "        dataTable['output_type'] = 'display_data';\n",
              "        await google.colab.output.renderOutput(dataTable, element);\n",
              "        const docLink = document.createElement('div');\n",
              "        docLink.innerHTML = docLinkHtml;\n",
              "        element.appendChild(docLink);\n",
              "      }\n",
              "    </script>\n",
              "  </div>\n",
              "\n",
              "\n",
              "<div id=\"df-6c6f9aa3-8a63-45f7-86fe-d3a491a6f732\">\n",
              "  <button class=\"colab-df-quickchart\" onclick=\"quickchart('df-6c6f9aa3-8a63-45f7-86fe-d3a491a6f732')\"\n",
              "            title=\"Suggest charts\"\n",
              "            style=\"display:none;\">\n",
              "\n",
              "<svg xmlns=\"http://www.w3.org/2000/svg\" height=\"24px\"viewBox=\"0 0 24 24\"\n",
              "     width=\"24px\">\n",
              "    <g>\n",
              "        <path d=\"M19 3H5c-1.1 0-2 .9-2 2v14c0 1.1.9 2 2 2h14c1.1 0 2-.9 2-2V5c0-1.1-.9-2-2-2zM9 17H7v-7h2v7zm4 0h-2V7h2v10zm4 0h-2v-4h2v4z\"/>\n",
              "    </g>\n",
              "</svg>\n",
              "  </button>\n",
              "\n",
              "<style>\n",
              "  .colab-df-quickchart {\n",
              "      --bg-color: #E8F0FE;\n",
              "      --fill-color: #1967D2;\n",
              "      --hover-bg-color: #E2EBFA;\n",
              "      --hover-fill-color: #174EA6;\n",
              "      --disabled-fill-color: #AAA;\n",
              "      --disabled-bg-color: #DDD;\n",
              "  }\n",
              "\n",
              "  [theme=dark] .colab-df-quickchart {\n",
              "      --bg-color: #3B4455;\n",
              "      --fill-color: #D2E3FC;\n",
              "      --hover-bg-color: #434B5C;\n",
              "      --hover-fill-color: #FFFFFF;\n",
              "      --disabled-bg-color: #3B4455;\n",
              "      --disabled-fill-color: #666;\n",
              "  }\n",
              "\n",
              "  .colab-df-quickchart {\n",
              "    background-color: var(--bg-color);\n",
              "    border: none;\n",
              "    border-radius: 50%;\n",
              "    cursor: pointer;\n",
              "    display: none;\n",
              "    fill: var(--fill-color);\n",
              "    height: 32px;\n",
              "    padding: 0;\n",
              "    width: 32px;\n",
              "  }\n",
              "\n",
              "  .colab-df-quickchart:hover {\n",
              "    background-color: var(--hover-bg-color);\n",
              "    box-shadow: 0 1px 2px rgba(60, 64, 67, 0.3), 0 1px 3px 1px rgba(60, 64, 67, 0.15);\n",
              "    fill: var(--button-hover-fill-color);\n",
              "  }\n",
              "\n",
              "  .colab-df-quickchart-complete:disabled,\n",
              "  .colab-df-quickchart-complete:disabled:hover {\n",
              "    background-color: var(--disabled-bg-color);\n",
              "    fill: var(--disabled-fill-color);\n",
              "    box-shadow: none;\n",
              "  }\n",
              "\n",
              "  .colab-df-spinner {\n",
              "    border: 2px solid var(--fill-color);\n",
              "    border-color: transparent;\n",
              "    border-bottom-color: var(--fill-color);\n",
              "    animation:\n",
              "      spin 1s steps(1) infinite;\n",
              "  }\n",
              "\n",
              "  @keyframes spin {\n",
              "    0% {\n",
              "      border-color: transparent;\n",
              "      border-bottom-color: var(--fill-color);\n",
              "      border-left-color: var(--fill-color);\n",
              "    }\n",
              "    20% {\n",
              "      border-color: transparent;\n",
              "      border-left-color: var(--fill-color);\n",
              "      border-top-color: var(--fill-color);\n",
              "    }\n",
              "    30% {\n",
              "      border-color: transparent;\n",
              "      border-left-color: var(--fill-color);\n",
              "      border-top-color: var(--fill-color);\n",
              "      border-right-color: var(--fill-color);\n",
              "    }\n",
              "    40% {\n",
              "      border-color: transparent;\n",
              "      border-right-color: var(--fill-color);\n",
              "      border-top-color: var(--fill-color);\n",
              "    }\n",
              "    60% {\n",
              "      border-color: transparent;\n",
              "      border-right-color: var(--fill-color);\n",
              "    }\n",
              "    80% {\n",
              "      border-color: transparent;\n",
              "      border-right-color: var(--fill-color);\n",
              "      border-bottom-color: var(--fill-color);\n",
              "    }\n",
              "    90% {\n",
              "      border-color: transparent;\n",
              "      border-bottom-color: var(--fill-color);\n",
              "    }\n",
              "  }\n",
              "</style>\n",
              "\n",
              "  <script>\n",
              "    async function quickchart(key) {\n",
              "      const quickchartButtonEl =\n",
              "        document.querySelector('#' + key + ' button');\n",
              "      quickchartButtonEl.disabled = true;  // To prevent multiple clicks.\n",
              "      quickchartButtonEl.classList.add('colab-df-spinner');\n",
              "      try {\n",
              "        const charts = await google.colab.kernel.invokeFunction(\n",
              "            'suggestCharts', [key], {});\n",
              "      } catch (error) {\n",
              "        console.error('Error during call to suggestCharts:', error);\n",
              "      }\n",
              "      quickchartButtonEl.classList.remove('colab-df-spinner');\n",
              "      quickchartButtonEl.classList.add('colab-df-quickchart-complete');\n",
              "    }\n",
              "    (() => {\n",
              "      let quickchartButtonEl =\n",
              "        document.querySelector('#df-6c6f9aa3-8a63-45f7-86fe-d3a491a6f732 button');\n",
              "      quickchartButtonEl.style.display =\n",
              "        google.colab.kernel.accessAllowed ? 'block' : 'none';\n",
              "    })();\n",
              "  </script>\n",
              "</div>\n",
              "    </div>\n",
              "  </div>\n"
            ]
          },
          "metadata": {},
          "execution_count": 23
        }
      ]
    },
    {
      "cell_type": "code",
      "source": [
        "# Function to capitalize words based on criteria\n",
        "def sentence_case(sentence):\n",
        "    words = sentence.split()\n",
        "    result = []\n",
        "\n",
        "    for word in words:\n",
        "        if len(word) <= 3: #if a word is 3 letters or less capitalize all letters ('bae' => 'BAE')\n",
        "            result.append(word.upper())\n",
        "        else:\n",
        "            result.append(word.title())\n",
        "\n",
        "    return ' '.join(result)"
      ],
      "metadata": {
        "id": "L8yuEmraqE3K"
      },
      "execution_count": null,
      "outputs": []
    },
    {
      "cell_type": "code",
      "source": [
        "df_dod['Vendor Name Clean'] = df_dod['Vendor Name Clean'].apply(sentence_case)\n",
        "df_dod['Vendor Top Name Clean'] = df_dod['Vendor Top Name Clean'].apply(sentence_case)\n",
        "df_dod['Contracting Office Clean'] = df_dod['Contracting Office'].apply(sentence_case)"
      ],
      "metadata": {
        "colab": {
          "base_uri": "https://localhost:8080/"
        },
        "id": "wZAX3CaxqkO2",
        "outputId": "532f591c-d269-4c48-caf6-e205f013b8cd"
      },
      "execution_count": null,
      "outputs": [
        {
          "output_type": "stream",
          "name": "stderr",
          "text": [
            "<ipython-input-25-2cf3aa668fa3>:1: SettingWithCopyWarning: \n",
            "A value is trying to be set on a copy of a slice from a DataFrame.\n",
            "Try using .loc[row_indexer,col_indexer] = value instead\n",
            "\n",
            "See the caveats in the documentation: https://pandas.pydata.org/pandas-docs/stable/user_guide/indexing.html#returning-a-view-versus-a-copy\n",
            "  df_dod['Vendor Name Clean'] = df_dod['Vendor Name Clean'].apply(sentence_case)\n",
            "<ipython-input-25-2cf3aa668fa3>:2: SettingWithCopyWarning: \n",
            "A value is trying to be set on a copy of a slice from a DataFrame.\n",
            "Try using .loc[row_indexer,col_indexer] = value instead\n",
            "\n",
            "See the caveats in the documentation: https://pandas.pydata.org/pandas-docs/stable/user_guide/indexing.html#returning-a-view-versus-a-copy\n",
            "  df_dod['Vendor Top Name Clean'] = df_dod['Vendor Top Name Clean'].apply(sentence_case)\n",
            "<ipython-input-25-2cf3aa668fa3>:3: SettingWithCopyWarning: \n",
            "A value is trying to be set on a copy of a slice from a DataFrame.\n",
            "Try using .loc[row_indexer,col_indexer] = value instead\n",
            "\n",
            "See the caveats in the documentation: https://pandas.pydata.org/pandas-docs/stable/user_guide/indexing.html#returning-a-view-versus-a-copy\n",
            "  df_dod['Contracting Office Clean'] = df_dod['Contracting Office'].apply(sentence_case)\n"
          ]
        }
      ]
    },
    {
      "cell_type": "code",
      "source": [
        "df_dod.info()"
      ],
      "metadata": {
        "colab": {
          "base_uri": "https://localhost:8080/"
        },
        "id": "BmdhAk3BsXV9",
        "outputId": "c49c8526-22a9-4225-b8cd-601826ad3cc6"
      },
      "execution_count": null,
      "outputs": [
        {
          "output_type": "stream",
          "name": "stdout",
          "text": [
            "<class 'pandas.core.frame.DataFrame'>\n",
            "Int64Index: 39422 entries, 0 to 54376\n",
            "Data columns (total 17 columns):\n",
            " #   Column                      Non-Null Count  Dtype  \n",
            "---  ------                      --------------  -----  \n",
            " 0   ID                          39422 non-null  int64  \n",
            " 1   Contract Number (IDVPIID)   31105 non-null  object \n",
            " 2   Award Number (PIID)         39422 non-null  object \n",
            " 3   Modification Number         38445 non-null  object \n",
            " 4   Fiscal Year                 39422 non-null  int64  \n",
            " 5   Title                       39422 non-null  object \n",
            " 6   Awarded Amount              38445 non-null  float64\n",
            " 7   Contracting Office          39422 non-null  object \n",
            " 8   Contracting Agency          39422 non-null  object \n",
            " 9   Place of Performance State  37640 non-null  object \n",
            " 10  Place of Performance City   37640 non-null  object \n",
            " 11  Vendor Name                 39422 non-null  object \n",
            " 12  Vendor Top Name             39422 non-null  object \n",
            " 13  PSC Name                    38954 non-null  object \n",
            " 14  Vendor Name Clean           39422 non-null  object \n",
            " 15  Vendor Top Name Clean       39422 non-null  object \n",
            " 16  Contracting Office Clean    39422 non-null  object \n",
            "dtypes: float64(1), int64(2), object(14)\n",
            "memory usage: 5.4+ MB\n"
          ]
        }
      ]
    },
    {
      "cell_type": "code",
      "source": [
        "df_dod['Award Number (PIID)'].value_counts()"
      ],
      "metadata": {
        "colab": {
          "base_uri": "https://localhost:8080/"
        },
        "id": "FWtmPpgdq98u",
        "outputId": "b54910a0-32d8-4904-881f-c510e8dacea4"
      },
      "execution_count": null,
      "outputs": [
        {
          "output_type": "execute_result",
          "data": {
            "text/plain": [
              "W56HZV15C0095    475\n",
              "2                223\n",
              "W56HZV15C0099    189\n",
              "1                178\n",
              "W56HZV17C0067    177\n",
              "                ... \n",
              "SPE2D618F1CBL      1\n",
              "SPE2D618F1CAP      1\n",
              "SPE2D618F1CAN      1\n",
              "SPE2D618F1CAC      1\n",
              "W91YTZ21P0103      1\n",
              "Name: Award Number (PIID), Length: 23097, dtype: int64"
            ]
          },
          "metadata": {},
          "execution_count": 27
        }
      ]
    },
    {
      "cell_type": "code",
      "source": [
        "df_dod[['Award Number (PIID)', 'Contract Number (IDVPIID)']]"
      ],
      "metadata": {
        "colab": {
          "base_uri": "https://localhost:8080/",
          "height": 705
        },
        "id": "uXZYX6_RLv-k",
        "outputId": "d04aa04a-b2b9-4a4b-a402-341fe99aba1f"
      },
      "execution_count": null,
      "outputs": [
        {
          "output_type": "execute_result",
          "data": {
            "text/plain": [
              "      Award Number (PIID) Contract Number (IDVPIID)\n",
              "0           SPE4A616M0117                       NaN\n",
              "22          SPE4A616F0002                       NaN\n",
              "23          SPE2DS16M0038                       NaN\n",
              "39          W56HZV16D0014                       NaN\n",
              "190         SPE2DS16M0237                       NaN\n",
              "...                   ...                       ...\n",
              "54372       FA489017C0005                       NaN\n",
              "54373       FA489017C0005                       NaN\n",
              "54374       FA489017C0005                       NaN\n",
              "54375       FA489017C0005                       NaN\n",
              "54376       FA489017C0005                       NaN\n",
              "\n",
              "[39422 rows x 2 columns]"
            ],
            "text/html": [
              "\n",
              "  <div id=\"df-1280fe81-ca3b-4667-9265-1f7f306b6f11\" class=\"colab-df-container\">\n",
              "    <div>\n",
              "<style scoped>\n",
              "    .dataframe tbody tr th:only-of-type {\n",
              "        vertical-align: middle;\n",
              "    }\n",
              "\n",
              "    .dataframe tbody tr th {\n",
              "        vertical-align: top;\n",
              "    }\n",
              "\n",
              "    .dataframe thead th {\n",
              "        text-align: right;\n",
              "    }\n",
              "</style>\n",
              "<table border=\"1\" class=\"dataframe\">\n",
              "  <thead>\n",
              "    <tr style=\"text-align: right;\">\n",
              "      <th></th>\n",
              "      <th>Award Number (PIID)</th>\n",
              "      <th>Contract Number (IDVPIID)</th>\n",
              "    </tr>\n",
              "  </thead>\n",
              "  <tbody>\n",
              "    <tr>\n",
              "      <th>0</th>\n",
              "      <td>SPE4A616M0117</td>\n",
              "      <td>NaN</td>\n",
              "    </tr>\n",
              "    <tr>\n",
              "      <th>22</th>\n",
              "      <td>SPE4A616F0002</td>\n",
              "      <td>NaN</td>\n",
              "    </tr>\n",
              "    <tr>\n",
              "      <th>23</th>\n",
              "      <td>SPE2DS16M0038</td>\n",
              "      <td>NaN</td>\n",
              "    </tr>\n",
              "    <tr>\n",
              "      <th>39</th>\n",
              "      <td>W56HZV16D0014</td>\n",
              "      <td>NaN</td>\n",
              "    </tr>\n",
              "    <tr>\n",
              "      <th>190</th>\n",
              "      <td>SPE2DS16M0237</td>\n",
              "      <td>NaN</td>\n",
              "    </tr>\n",
              "    <tr>\n",
              "      <th>...</th>\n",
              "      <td>...</td>\n",
              "      <td>...</td>\n",
              "    </tr>\n",
              "    <tr>\n",
              "      <th>54372</th>\n",
              "      <td>FA489017C0005</td>\n",
              "      <td>NaN</td>\n",
              "    </tr>\n",
              "    <tr>\n",
              "      <th>54373</th>\n",
              "      <td>FA489017C0005</td>\n",
              "      <td>NaN</td>\n",
              "    </tr>\n",
              "    <tr>\n",
              "      <th>54374</th>\n",
              "      <td>FA489017C0005</td>\n",
              "      <td>NaN</td>\n",
              "    </tr>\n",
              "    <tr>\n",
              "      <th>54375</th>\n",
              "      <td>FA489017C0005</td>\n",
              "      <td>NaN</td>\n",
              "    </tr>\n",
              "    <tr>\n",
              "      <th>54376</th>\n",
              "      <td>FA489017C0005</td>\n",
              "      <td>NaN</td>\n",
              "    </tr>\n",
              "  </tbody>\n",
              "</table>\n",
              "<p>39422 rows × 2 columns</p>\n",
              "</div>\n",
              "    <div class=\"colab-df-buttons\">\n",
              "\n",
              "  <div class=\"colab-df-container\">\n",
              "    <button class=\"colab-df-convert\" onclick=\"convertToInteractive('df-1280fe81-ca3b-4667-9265-1f7f306b6f11')\"\n",
              "            title=\"Convert this dataframe to an interactive table.\"\n",
              "            style=\"display:none;\">\n",
              "\n",
              "  <svg xmlns=\"http://www.w3.org/2000/svg\" height=\"24px\" viewBox=\"0 -960 960 960\">\n",
              "    <path d=\"M120-120v-720h720v720H120Zm60-500h600v-160H180v160Zm220 220h160v-160H400v160Zm0 220h160v-160H400v160ZM180-400h160v-160H180v160Zm440 0h160v-160H620v160ZM180-180h160v-160H180v160Zm440 0h160v-160H620v160Z\"/>\n",
              "  </svg>\n",
              "    </button>\n",
              "\n",
              "  <style>\n",
              "    .colab-df-container {\n",
              "      display:flex;\n",
              "      gap: 12px;\n",
              "    }\n",
              "\n",
              "    .colab-df-convert {\n",
              "      background-color: #E8F0FE;\n",
              "      border: none;\n",
              "      border-radius: 50%;\n",
              "      cursor: pointer;\n",
              "      display: none;\n",
              "      fill: #1967D2;\n",
              "      height: 32px;\n",
              "      padding: 0 0 0 0;\n",
              "      width: 32px;\n",
              "    }\n",
              "\n",
              "    .colab-df-convert:hover {\n",
              "      background-color: #E2EBFA;\n",
              "      box-shadow: 0px 1px 2px rgba(60, 64, 67, 0.3), 0px 1px 3px 1px rgba(60, 64, 67, 0.15);\n",
              "      fill: #174EA6;\n",
              "    }\n",
              "\n",
              "    .colab-df-buttons div {\n",
              "      margin-bottom: 4px;\n",
              "    }\n",
              "\n",
              "    [theme=dark] .colab-df-convert {\n",
              "      background-color: #3B4455;\n",
              "      fill: #D2E3FC;\n",
              "    }\n",
              "\n",
              "    [theme=dark] .colab-df-convert:hover {\n",
              "      background-color: #434B5C;\n",
              "      box-shadow: 0px 1px 3px 1px rgba(0, 0, 0, 0.15);\n",
              "      filter: drop-shadow(0px 1px 2px rgba(0, 0, 0, 0.3));\n",
              "      fill: #FFFFFF;\n",
              "    }\n",
              "  </style>\n",
              "\n",
              "    <script>\n",
              "      const buttonEl =\n",
              "        document.querySelector('#df-1280fe81-ca3b-4667-9265-1f7f306b6f11 button.colab-df-convert');\n",
              "      buttonEl.style.display =\n",
              "        google.colab.kernel.accessAllowed ? 'block' : 'none';\n",
              "\n",
              "      async function convertToInteractive(key) {\n",
              "        const element = document.querySelector('#df-1280fe81-ca3b-4667-9265-1f7f306b6f11');\n",
              "        const dataTable =\n",
              "          await google.colab.kernel.invokeFunction('convertToInteractive',\n",
              "                                                    [key], {});\n",
              "        if (!dataTable) return;\n",
              "\n",
              "        const docLinkHtml = 'Like what you see? Visit the ' +\n",
              "          '<a target=\"_blank\" href=https://colab.research.google.com/notebooks/data_table.ipynb>data table notebook</a>'\n",
              "          + ' to learn more about interactive tables.';\n",
              "        element.innerHTML = '';\n",
              "        dataTable['output_type'] = 'display_data';\n",
              "        await google.colab.output.renderOutput(dataTable, element);\n",
              "        const docLink = document.createElement('div');\n",
              "        docLink.innerHTML = docLinkHtml;\n",
              "        element.appendChild(docLink);\n",
              "      }\n",
              "    </script>\n",
              "  </div>\n",
              "\n",
              "\n",
              "<div id=\"df-3bf15702-3473-4521-80ec-932d65245fae\">\n",
              "  <button class=\"colab-df-quickchart\" onclick=\"quickchart('df-3bf15702-3473-4521-80ec-932d65245fae')\"\n",
              "            title=\"Suggest charts\"\n",
              "            style=\"display:none;\">\n",
              "\n",
              "<svg xmlns=\"http://www.w3.org/2000/svg\" height=\"24px\"viewBox=\"0 0 24 24\"\n",
              "     width=\"24px\">\n",
              "    <g>\n",
              "        <path d=\"M19 3H5c-1.1 0-2 .9-2 2v14c0 1.1.9 2 2 2h14c1.1 0 2-.9 2-2V5c0-1.1-.9-2-2-2zM9 17H7v-7h2v7zm4 0h-2V7h2v10zm4 0h-2v-4h2v4z\"/>\n",
              "    </g>\n",
              "</svg>\n",
              "  </button>\n",
              "\n",
              "<style>\n",
              "  .colab-df-quickchart {\n",
              "      --bg-color: #E8F0FE;\n",
              "      --fill-color: #1967D2;\n",
              "      --hover-bg-color: #E2EBFA;\n",
              "      --hover-fill-color: #174EA6;\n",
              "      --disabled-fill-color: #AAA;\n",
              "      --disabled-bg-color: #DDD;\n",
              "  }\n",
              "\n",
              "  [theme=dark] .colab-df-quickchart {\n",
              "      --bg-color: #3B4455;\n",
              "      --fill-color: #D2E3FC;\n",
              "      --hover-bg-color: #434B5C;\n",
              "      --hover-fill-color: #FFFFFF;\n",
              "      --disabled-bg-color: #3B4455;\n",
              "      --disabled-fill-color: #666;\n",
              "  }\n",
              "\n",
              "  .colab-df-quickchart {\n",
              "    background-color: var(--bg-color);\n",
              "    border: none;\n",
              "    border-radius: 50%;\n",
              "    cursor: pointer;\n",
              "    display: none;\n",
              "    fill: var(--fill-color);\n",
              "    height: 32px;\n",
              "    padding: 0;\n",
              "    width: 32px;\n",
              "  }\n",
              "\n",
              "  .colab-df-quickchart:hover {\n",
              "    background-color: var(--hover-bg-color);\n",
              "    box-shadow: 0 1px 2px rgba(60, 64, 67, 0.3), 0 1px 3px 1px rgba(60, 64, 67, 0.15);\n",
              "    fill: var(--button-hover-fill-color);\n",
              "  }\n",
              "\n",
              "  .colab-df-quickchart-complete:disabled,\n",
              "  .colab-df-quickchart-complete:disabled:hover {\n",
              "    background-color: var(--disabled-bg-color);\n",
              "    fill: var(--disabled-fill-color);\n",
              "    box-shadow: none;\n",
              "  }\n",
              "\n",
              "  .colab-df-spinner {\n",
              "    border: 2px solid var(--fill-color);\n",
              "    border-color: transparent;\n",
              "    border-bottom-color: var(--fill-color);\n",
              "    animation:\n",
              "      spin 1s steps(1) infinite;\n",
              "  }\n",
              "\n",
              "  @keyframes spin {\n",
              "    0% {\n",
              "      border-color: transparent;\n",
              "      border-bottom-color: var(--fill-color);\n",
              "      border-left-color: var(--fill-color);\n",
              "    }\n",
              "    20% {\n",
              "      border-color: transparent;\n",
              "      border-left-color: var(--fill-color);\n",
              "      border-top-color: var(--fill-color);\n",
              "    }\n",
              "    30% {\n",
              "      border-color: transparent;\n",
              "      border-left-color: var(--fill-color);\n",
              "      border-top-color: var(--fill-color);\n",
              "      border-right-color: var(--fill-color);\n",
              "    }\n",
              "    40% {\n",
              "      border-color: transparent;\n",
              "      border-right-color: var(--fill-color);\n",
              "      border-top-color: var(--fill-color);\n",
              "    }\n",
              "    60% {\n",
              "      border-color: transparent;\n",
              "      border-right-color: var(--fill-color);\n",
              "    }\n",
              "    80% {\n",
              "      border-color: transparent;\n",
              "      border-right-color: var(--fill-color);\n",
              "      border-bottom-color: var(--fill-color);\n",
              "    }\n",
              "    90% {\n",
              "      border-color: transparent;\n",
              "      border-bottom-color: var(--fill-color);\n",
              "    }\n",
              "  }\n",
              "</style>\n",
              "\n",
              "  <script>\n",
              "    async function quickchart(key) {\n",
              "      const quickchartButtonEl =\n",
              "        document.querySelector('#' + key + ' button');\n",
              "      quickchartButtonEl.disabled = true;  // To prevent multiple clicks.\n",
              "      quickchartButtonEl.classList.add('colab-df-spinner');\n",
              "      try {\n",
              "        const charts = await google.colab.kernel.invokeFunction(\n",
              "            'suggestCharts', [key], {});\n",
              "      } catch (error) {\n",
              "        console.error('Error during call to suggestCharts:', error);\n",
              "      }\n",
              "      quickchartButtonEl.classList.remove('colab-df-spinner');\n",
              "      quickchartButtonEl.classList.add('colab-df-quickchart-complete');\n",
              "    }\n",
              "    (() => {\n",
              "      let quickchartButtonEl =\n",
              "        document.querySelector('#df-3bf15702-3473-4521-80ec-932d65245fae button');\n",
              "      quickchartButtonEl.style.display =\n",
              "        google.colab.kernel.accessAllowed ? 'block' : 'none';\n",
              "    })();\n",
              "  </script>\n",
              "</div>\n",
              "    </div>\n",
              "  </div>\n"
            ]
          },
          "metadata": {},
          "execution_count": 30
        },
        {
          "output_type": "stream",
          "name": "stdout",
          "text": [
            "Warning: total number of rows (39422) exceeds max_rows (20000). Limiting to first (20000) rows.\n"
          ]
        }
      ]
    },
    {
      "cell_type": "markdown",
      "source": [
        "Every row has an Award Number, and award numbers are not unique. Everywhere there is a non-null IDVPIID, the award number doesn't look right.\n",
        "\n",
        "I'll make a combined PIID field that takes the Contract Number unless it's null, it'll take the award number."
      ],
      "metadata": {
        "id": "m8coBoHKsOkp"
      }
    },
    {
      "cell_type": "code",
      "source": [
        "if [df_dod['Contract Number (IDVPIID)'].isna()]:\n",
        "  df_dod['PIID Clean'] = df_dod['Award Number (PIID)']\n",
        "else:\n",
        "  df_dod['PIID Clean'] = df_dod['Contract Number (IDVPIID)']"
      ],
      "metadata": {
        "id": "EoV848s8sKXy",
        "colab": {
          "base_uri": "https://localhost:8080/"
        },
        "outputId": "1aa56984-87bb-4f75-aa50-c7de3b52b131"
      },
      "execution_count": null,
      "outputs": [
        {
          "output_type": "stream",
          "name": "stderr",
          "text": [
            "<ipython-input-31-8a57e31ae486>:2: SettingWithCopyWarning: \n",
            "A value is trying to be set on a copy of a slice from a DataFrame.\n",
            "Try using .loc[row_indexer,col_indexer] = value instead\n",
            "\n",
            "See the caveats in the documentation: https://pandas.pydata.org/pandas-docs/stable/user_guide/indexing.html#returning-a-view-versus-a-copy\n",
            "  df_dod['PIID Clean'] = df_dod['Award Number (PIID)']\n"
          ]
        }
      ]
    },
    {
      "cell_type": "code",
      "source": [
        "df_dod.info()"
      ],
      "metadata": {
        "colab": {
          "base_uri": "https://localhost:8080/"
        },
        "id": "YlK4qC6HM-RA",
        "outputId": "43da91f0-9140-43af-e3fb-2ba719e08c08"
      },
      "execution_count": null,
      "outputs": [
        {
          "output_type": "stream",
          "name": "stdout",
          "text": [
            "<class 'pandas.core.frame.DataFrame'>\n",
            "Int64Index: 39422 entries, 0 to 54376\n",
            "Data columns (total 18 columns):\n",
            " #   Column                      Non-Null Count  Dtype  \n",
            "---  ------                      --------------  -----  \n",
            " 0   ID                          39422 non-null  int64  \n",
            " 1   Contract Number (IDVPIID)   31105 non-null  object \n",
            " 2   Award Number (PIID)         39422 non-null  object \n",
            " 3   Modification Number         38445 non-null  object \n",
            " 4   Fiscal Year                 39422 non-null  int64  \n",
            " 5   Title                       39422 non-null  object \n",
            " 6   Awarded Amount              38445 non-null  float64\n",
            " 7   Contracting Office          39422 non-null  object \n",
            " 8   Contracting Agency          39422 non-null  object \n",
            " 9   Place of Performance State  37640 non-null  object \n",
            " 10  Place of Performance City   37640 non-null  object \n",
            " 11  Vendor Name                 39422 non-null  object \n",
            " 12  Vendor Top Name             39422 non-null  object \n",
            " 13  PSC Name                    38954 non-null  object \n",
            " 14  Vendor Name Clean           39422 non-null  object \n",
            " 15  Vendor Top Name Clean       39422 non-null  object \n",
            " 16  Contracting Office Clean    39422 non-null  object \n",
            " 17  PIID Clean                  39422 non-null  object \n",
            "dtypes: float64(1), int64(2), object(15)\n",
            "memory usage: 5.7+ MB\n"
          ]
        }
      ]
    },
    {
      "cell_type": "markdown",
      "source": [
        "We want to understand what programs are Ground Combat Systems in the data for further analysis. We will add a field called \"Ground Combat Systems\" with key search terms. These will help us aggregate as needed within Tableau reports."
      ],
      "metadata": {
        "id": "JOhCyy6xzEIp"
      }
    },
    {
      "cell_type": "code",
      "source": [
        "df_dod['Title'] = df_dod['Title'].astype(str) #convert contract titles to string"
      ],
      "metadata": {
        "colab": {
          "base_uri": "https://localhost:8080/"
        },
        "id": "-VvHk3nEPxsb",
        "outputId": "7e72ce16-faa1-4914-a54c-15e0e84ebde8"
      },
      "execution_count": null,
      "outputs": [
        {
          "output_type": "stream",
          "name": "stderr",
          "text": [
            "<ipython-input-38-96c50990c026>:1: SettingWithCopyWarning: \n",
            "A value is trying to be set on a copy of a slice from a DataFrame.\n",
            "Try using .loc[row_indexer,col_indexer] = value instead\n",
            "\n",
            "See the caveats in the documentation: https://pandas.pydata.org/pandas-docs/stable/user_guide/indexing.html#returning-a-view-versus-a-copy\n",
            "  df_dod['Title'] = df_dod['Title'].astype(str) #convert contract titles to string\n"
          ]
        }
      ]
    },
    {
      "cell_type": "code",
      "source": [
        "search_words = ['Abrams', 'Bradley', 'Stryker', 'LAV-25', 'LAV-AT', 'LAV-M', 'AMPV']\n",
        "\n",
        "df_dod['GSC']=df_dod['Title'].apply(lambda row:' '.join(word for word in search_words if word in row))\n",
        "df_dod['GSC'].value_counts()"
      ],
      "metadata": {
        "id": "rfgCxDPlzCtN",
        "colab": {
          "base_uri": "https://localhost:8080/"
        },
        "outputId": "484fdfa5-dbe6-4563-c060-da26ce01bb65"
      },
      "execution_count": null,
      "outputs": [
        {
          "output_type": "stream",
          "name": "stderr",
          "text": [
            "<ipython-input-89-8b2e166f00d5>:3: SettingWithCopyWarning: \n",
            "A value is trying to be set on a copy of a slice from a DataFrame.\n",
            "Try using .loc[row_indexer,col_indexer] = value instead\n",
            "\n",
            "See the caveats in the documentation: https://pandas.pydata.org/pandas-docs/stable/user_guide/indexing.html#returning-a-view-versus-a-copy\n",
            "  df_dod['GSC']=df_dod['Title'].apply(lambda row:' '.join(word for word in search_words if word in row))\n"
          ]
        },
        {
          "output_type": "execute_result",
          "data": {
            "text/plain": [
              "           39269\n",
              "AMPV          51\n",
              "Stryker       36\n",
              "LAV-M         25\n",
              "Abrams        20\n",
              "LAV-25        14\n",
              "LAV-AT         6\n",
              "Bradley        1\n",
              "Name: GSC, dtype: int64"
            ]
          },
          "metadata": {},
          "execution_count": 89
        }
      ]
    },
    {
      "cell_type": "markdown",
      "source": [
        "To fill in the rows that are associated to the contracts above but may not have the key words, I'll create a lookup table to supplement the rest of the identified rows."
      ],
      "metadata": {
        "id": "bdgygiRlUBav"
      }
    },
    {
      "cell_type": "code",
      "source": [
        "lookup = df_dod[['PIID Clean', 'GSC']] #create the lookup table\n",
        "lookup = lookup[lookup['GSC'].str.strip() != ''] #drop the rows where GSC is blank\n",
        "lookup.drop_duplicates(inplace=True) #drop duplicate contracts"
      ],
      "metadata": {
        "id": "raTSgiF1Qo83"
      },
      "execution_count": null,
      "outputs": []
    },
    {
      "cell_type": "code",
      "source": [
        "lookup"
      ],
      "metadata": {
        "colab": {
          "base_uri": "https://localhost:8080/",
          "height": 424
        },
        "id": "QqFhDtSjUeKb",
        "outputId": "1b9ec353-b3df-4786-eba3-2e4f64015fcf"
      },
      "execution_count": null,
      "outputs": [
        {
          "output_type": "execute_result",
          "data": {
            "text/plain": [
              "             PIID Clean      GSC\n",
              "315       SPE7LX16D0019  Stryker\n",
              "830       M6785411C8002   LAV-25\n",
              "874    W91YTZ-16-P-0039  Stryker\n",
              "1548      W56HZV10C0077    LAV-M\n",
              "1611                  1     AMPV\n",
              "...                 ...      ...\n",
              "46838     N6264521P0001  Stryker\n",
              "46956     N0025921P0100  Stryker\n",
              "47077     W81K0221P0045  Stryker\n",
              "47099     W912QR21C0008   Abrams\n",
              "50328     W56HZV16C0182    LAV-M\n",
              "\n",
              "[73 rows x 2 columns]"
            ],
            "text/html": [
              "\n",
              "  <div id=\"df-3f1f85c6-2856-402a-a187-5790a8f81ebf\" class=\"colab-df-container\">\n",
              "    <div>\n",
              "<style scoped>\n",
              "    .dataframe tbody tr th:only-of-type {\n",
              "        vertical-align: middle;\n",
              "    }\n",
              "\n",
              "    .dataframe tbody tr th {\n",
              "        vertical-align: top;\n",
              "    }\n",
              "\n",
              "    .dataframe thead th {\n",
              "        text-align: right;\n",
              "    }\n",
              "</style>\n",
              "<table border=\"1\" class=\"dataframe\">\n",
              "  <thead>\n",
              "    <tr style=\"text-align: right;\">\n",
              "      <th></th>\n",
              "      <th>PIID Clean</th>\n",
              "      <th>GSC</th>\n",
              "    </tr>\n",
              "  </thead>\n",
              "  <tbody>\n",
              "    <tr>\n",
              "      <th>315</th>\n",
              "      <td>SPE7LX16D0019</td>\n",
              "      <td>Stryker</td>\n",
              "    </tr>\n",
              "    <tr>\n",
              "      <th>830</th>\n",
              "      <td>M6785411C8002</td>\n",
              "      <td>LAV-25</td>\n",
              "    </tr>\n",
              "    <tr>\n",
              "      <th>874</th>\n",
              "      <td>W91YTZ-16-P-0039</td>\n",
              "      <td>Stryker</td>\n",
              "    </tr>\n",
              "    <tr>\n",
              "      <th>1548</th>\n",
              "      <td>W56HZV10C0077</td>\n",
              "      <td>LAV-M</td>\n",
              "    </tr>\n",
              "    <tr>\n",
              "      <th>1611</th>\n",
              "      <td>1</td>\n",
              "      <td>AMPV</td>\n",
              "    </tr>\n",
              "    <tr>\n",
              "      <th>...</th>\n",
              "      <td>...</td>\n",
              "      <td>...</td>\n",
              "    </tr>\n",
              "    <tr>\n",
              "      <th>46838</th>\n",
              "      <td>N6264521P0001</td>\n",
              "      <td>Stryker</td>\n",
              "    </tr>\n",
              "    <tr>\n",
              "      <th>46956</th>\n",
              "      <td>N0025921P0100</td>\n",
              "      <td>Stryker</td>\n",
              "    </tr>\n",
              "    <tr>\n",
              "      <th>47077</th>\n",
              "      <td>W81K0221P0045</td>\n",
              "      <td>Stryker</td>\n",
              "    </tr>\n",
              "    <tr>\n",
              "      <th>47099</th>\n",
              "      <td>W912QR21C0008</td>\n",
              "      <td>Abrams</td>\n",
              "    </tr>\n",
              "    <tr>\n",
              "      <th>50328</th>\n",
              "      <td>W56HZV16C0182</td>\n",
              "      <td>LAV-M</td>\n",
              "    </tr>\n",
              "  </tbody>\n",
              "</table>\n",
              "<p>73 rows × 2 columns</p>\n",
              "</div>\n",
              "    <div class=\"colab-df-buttons\">\n",
              "\n",
              "  <div class=\"colab-df-container\">\n",
              "    <button class=\"colab-df-convert\" onclick=\"convertToInteractive('df-3f1f85c6-2856-402a-a187-5790a8f81ebf')\"\n",
              "            title=\"Convert this dataframe to an interactive table.\"\n",
              "            style=\"display:none;\">\n",
              "\n",
              "  <svg xmlns=\"http://www.w3.org/2000/svg\" height=\"24px\" viewBox=\"0 -960 960 960\">\n",
              "    <path d=\"M120-120v-720h720v720H120Zm60-500h600v-160H180v160Zm220 220h160v-160H400v160Zm0 220h160v-160H400v160ZM180-400h160v-160H180v160Zm440 0h160v-160H620v160ZM180-180h160v-160H180v160Zm440 0h160v-160H620v160Z\"/>\n",
              "  </svg>\n",
              "    </button>\n",
              "\n",
              "  <style>\n",
              "    .colab-df-container {\n",
              "      display:flex;\n",
              "      gap: 12px;\n",
              "    }\n",
              "\n",
              "    .colab-df-convert {\n",
              "      background-color: #E8F0FE;\n",
              "      border: none;\n",
              "      border-radius: 50%;\n",
              "      cursor: pointer;\n",
              "      display: none;\n",
              "      fill: #1967D2;\n",
              "      height: 32px;\n",
              "      padding: 0 0 0 0;\n",
              "      width: 32px;\n",
              "    }\n",
              "\n",
              "    .colab-df-convert:hover {\n",
              "      background-color: #E2EBFA;\n",
              "      box-shadow: 0px 1px 2px rgba(60, 64, 67, 0.3), 0px 1px 3px 1px rgba(60, 64, 67, 0.15);\n",
              "      fill: #174EA6;\n",
              "    }\n",
              "\n",
              "    .colab-df-buttons div {\n",
              "      margin-bottom: 4px;\n",
              "    }\n",
              "\n",
              "    [theme=dark] .colab-df-convert {\n",
              "      background-color: #3B4455;\n",
              "      fill: #D2E3FC;\n",
              "    }\n",
              "\n",
              "    [theme=dark] .colab-df-convert:hover {\n",
              "      background-color: #434B5C;\n",
              "      box-shadow: 0px 1px 3px 1px rgba(0, 0, 0, 0.15);\n",
              "      filter: drop-shadow(0px 1px 2px rgba(0, 0, 0, 0.3));\n",
              "      fill: #FFFFFF;\n",
              "    }\n",
              "  </style>\n",
              "\n",
              "    <script>\n",
              "      const buttonEl =\n",
              "        document.querySelector('#df-3f1f85c6-2856-402a-a187-5790a8f81ebf button.colab-df-convert');\n",
              "      buttonEl.style.display =\n",
              "        google.colab.kernel.accessAllowed ? 'block' : 'none';\n",
              "\n",
              "      async function convertToInteractive(key) {\n",
              "        const element = document.querySelector('#df-3f1f85c6-2856-402a-a187-5790a8f81ebf');\n",
              "        const dataTable =\n",
              "          await google.colab.kernel.invokeFunction('convertToInteractive',\n",
              "                                                    [key], {});\n",
              "        if (!dataTable) return;\n",
              "\n",
              "        const docLinkHtml = 'Like what you see? Visit the ' +\n",
              "          '<a target=\"_blank\" href=https://colab.research.google.com/notebooks/data_table.ipynb>data table notebook</a>'\n",
              "          + ' to learn more about interactive tables.';\n",
              "        element.innerHTML = '';\n",
              "        dataTable['output_type'] = 'display_data';\n",
              "        await google.colab.output.renderOutput(dataTable, element);\n",
              "        const docLink = document.createElement('div');\n",
              "        docLink.innerHTML = docLinkHtml;\n",
              "        element.appendChild(docLink);\n",
              "      }\n",
              "    </script>\n",
              "  </div>\n",
              "\n",
              "\n",
              "<div id=\"df-b527a9e9-d51a-4d47-8b96-ed580e61244c\">\n",
              "  <button class=\"colab-df-quickchart\" onclick=\"quickchart('df-b527a9e9-d51a-4d47-8b96-ed580e61244c')\"\n",
              "            title=\"Suggest charts\"\n",
              "            style=\"display:none;\">\n",
              "\n",
              "<svg xmlns=\"http://www.w3.org/2000/svg\" height=\"24px\"viewBox=\"0 0 24 24\"\n",
              "     width=\"24px\">\n",
              "    <g>\n",
              "        <path d=\"M19 3H5c-1.1 0-2 .9-2 2v14c0 1.1.9 2 2 2h14c1.1 0 2-.9 2-2V5c0-1.1-.9-2-2-2zM9 17H7v-7h2v7zm4 0h-2V7h2v10zm4 0h-2v-4h2v4z\"/>\n",
              "    </g>\n",
              "</svg>\n",
              "  </button>\n",
              "\n",
              "<style>\n",
              "  .colab-df-quickchart {\n",
              "      --bg-color: #E8F0FE;\n",
              "      --fill-color: #1967D2;\n",
              "      --hover-bg-color: #E2EBFA;\n",
              "      --hover-fill-color: #174EA6;\n",
              "      --disabled-fill-color: #AAA;\n",
              "      --disabled-bg-color: #DDD;\n",
              "  }\n",
              "\n",
              "  [theme=dark] .colab-df-quickchart {\n",
              "      --bg-color: #3B4455;\n",
              "      --fill-color: #D2E3FC;\n",
              "      --hover-bg-color: #434B5C;\n",
              "      --hover-fill-color: #FFFFFF;\n",
              "      --disabled-bg-color: #3B4455;\n",
              "      --disabled-fill-color: #666;\n",
              "  }\n",
              "\n",
              "  .colab-df-quickchart {\n",
              "    background-color: var(--bg-color);\n",
              "    border: none;\n",
              "    border-radius: 50%;\n",
              "    cursor: pointer;\n",
              "    display: none;\n",
              "    fill: var(--fill-color);\n",
              "    height: 32px;\n",
              "    padding: 0;\n",
              "    width: 32px;\n",
              "  }\n",
              "\n",
              "  .colab-df-quickchart:hover {\n",
              "    background-color: var(--hover-bg-color);\n",
              "    box-shadow: 0 1px 2px rgba(60, 64, 67, 0.3), 0 1px 3px 1px rgba(60, 64, 67, 0.15);\n",
              "    fill: var(--button-hover-fill-color);\n",
              "  }\n",
              "\n",
              "  .colab-df-quickchart-complete:disabled,\n",
              "  .colab-df-quickchart-complete:disabled:hover {\n",
              "    background-color: var(--disabled-bg-color);\n",
              "    fill: var(--disabled-fill-color);\n",
              "    box-shadow: none;\n",
              "  }\n",
              "\n",
              "  .colab-df-spinner {\n",
              "    border: 2px solid var(--fill-color);\n",
              "    border-color: transparent;\n",
              "    border-bottom-color: var(--fill-color);\n",
              "    animation:\n",
              "      spin 1s steps(1) infinite;\n",
              "  }\n",
              "\n",
              "  @keyframes spin {\n",
              "    0% {\n",
              "      border-color: transparent;\n",
              "      border-bottom-color: var(--fill-color);\n",
              "      border-left-color: var(--fill-color);\n",
              "    }\n",
              "    20% {\n",
              "      border-color: transparent;\n",
              "      border-left-color: var(--fill-color);\n",
              "      border-top-color: var(--fill-color);\n",
              "    }\n",
              "    30% {\n",
              "      border-color: transparent;\n",
              "      border-left-color: var(--fill-color);\n",
              "      border-top-color: var(--fill-color);\n",
              "      border-right-color: var(--fill-color);\n",
              "    }\n",
              "    40% {\n",
              "      border-color: transparent;\n",
              "      border-right-color: var(--fill-color);\n",
              "      border-top-color: var(--fill-color);\n",
              "    }\n",
              "    60% {\n",
              "      border-color: transparent;\n",
              "      border-right-color: var(--fill-color);\n",
              "    }\n",
              "    80% {\n",
              "      border-color: transparent;\n",
              "      border-right-color: var(--fill-color);\n",
              "      border-bottom-color: var(--fill-color);\n",
              "    }\n",
              "    90% {\n",
              "      border-color: transparent;\n",
              "      border-bottom-color: var(--fill-color);\n",
              "    }\n",
              "  }\n",
              "</style>\n",
              "\n",
              "  <script>\n",
              "    async function quickchart(key) {\n",
              "      const quickchartButtonEl =\n",
              "        document.querySelector('#' + key + ' button');\n",
              "      quickchartButtonEl.disabled = true;  // To prevent multiple clicks.\n",
              "      quickchartButtonEl.classList.add('colab-df-spinner');\n",
              "      try {\n",
              "        const charts = await google.colab.kernel.invokeFunction(\n",
              "            'suggestCharts', [key], {});\n",
              "      } catch (error) {\n",
              "        console.error('Error during call to suggestCharts:', error);\n",
              "      }\n",
              "      quickchartButtonEl.classList.remove('colab-df-spinner');\n",
              "      quickchartButtonEl.classList.add('colab-df-quickchart-complete');\n",
              "    }\n",
              "    (() => {\n",
              "      let quickchartButtonEl =\n",
              "        document.querySelector('#df-b527a9e9-d51a-4d47-8b96-ed580e61244c button');\n",
              "      quickchartButtonEl.style.display =\n",
              "        google.colab.kernel.accessAllowed ? 'block' : 'none';\n",
              "    })();\n",
              "  </script>\n",
              "</div>\n",
              "    </div>\n",
              "  </div>\n"
            ]
          },
          "metadata": {},
          "execution_count": 91
        }
      ]
    },
    {
      "cell_type": "code",
      "source": [
        "df_dod_export = pd.merge(df_dod, lookup, on='PIID Clean', how='left', copy=False) #merge lookup table and dod dataframe"
      ],
      "metadata": {
        "id": "Knr6pY4NUhb4"
      },
      "execution_count": null,
      "outputs": []
    },
    {
      "cell_type": "code",
      "source": [
        "df_dod_export.drop(columns='GSC_x', inplace=True)\n",
        "df_dod_export.rename(columns={\"GSC_y\": \"GSC\"}, inplace = True)"
      ],
      "metadata": {
        "id": "3Jb8BKUhWEnY"
      },
      "execution_count": null,
      "outputs": []
    },
    {
      "cell_type": "code",
      "source": [
        "df_dod_export.info()"
      ],
      "metadata": {
        "colab": {
          "base_uri": "https://localhost:8080/"
        },
        "id": "FDGIk6yGU3hd",
        "outputId": "0a8fbee0-00f3-404c-8b71-ddaf3e9156c4"
      },
      "execution_count": null,
      "outputs": [
        {
          "output_type": "stream",
          "name": "stdout",
          "text": [
            "<class 'pandas.core.frame.DataFrame'>\n",
            "Int64Index: 39446 entries, 0 to 39445\n",
            "Data columns (total 19 columns):\n",
            " #   Column                      Non-Null Count  Dtype  \n",
            "---  ------                      --------------  -----  \n",
            " 0   ID                          39446 non-null  int64  \n",
            " 1   Contract Number (IDVPIID)   31105 non-null  object \n",
            " 2   Award Number (PIID)         39446 non-null  object \n",
            " 3   Modification Number         38469 non-null  object \n",
            " 4   Fiscal Year                 39446 non-null  int64  \n",
            " 5   Title                       39446 non-null  object \n",
            " 6   Awarded Amount              38469 non-null  float64\n",
            " 7   Contracting Office          39446 non-null  object \n",
            " 8   Contracting Agency          39446 non-null  object \n",
            " 9   Place of Performance State  37640 non-null  object \n",
            " 10  Place of Performance City   37640 non-null  object \n",
            " 11  Vendor Name                 39446 non-null  object \n",
            " 12  Vendor Top Name             39446 non-null  object \n",
            " 13  PSC Name                    38978 non-null  object \n",
            " 14  Vendor Name Clean           39446 non-null  object \n",
            " 15  Vendor Top Name Clean       39446 non-null  object \n",
            " 16  Contracting Office Clean    39446 non-null  object \n",
            " 17  PIID Clean                  39446 non-null  object \n",
            " 18  GSC                         563 non-null    object \n",
            "dtypes: float64(1), int64(2), object(16)\n",
            "memory usage: 6.0+ MB\n"
          ]
        }
      ]
    },
    {
      "cell_type": "code",
      "source": [
        "df_dod_export.to_csv('/content/gsc_export.csv')"
      ],
      "metadata": {
        "id": "VjtJeBclWhMi"
      },
      "execution_count": null,
      "outputs": []
    }
  ]
}